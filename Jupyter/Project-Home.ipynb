{
 "cells": [
  {
   "cell_type": "markdown",
   "metadata": {},
   "source": [
    "<span style=\"font-family: Open Sans; font-weight: 400; font-size: 42px;font-style: italic\">The Story of Hollywood</span>\n",
    "\n",
    "\n",
    "![alt text](https://images.unsplash.com/photo-1534253893894-10d024888e49?ixid=MXwxMjA3fDB8MHxwaG90by1wYWdlfHx8fGVufDB8fHw%3D&ixlib=rb-1.2.1&auto=format&fit=crop&w=700&q=80 \"Copyright: Nathan DeFiesta\")\n",
    "\n",
    "People have throughout history always look for ways to express themselves through art and since the invention of the Kinetograph, which was the first motion picture camera, by Thomas Edison and his British assistant William Dickson 1890 [\\[1\\]](https://www.pbs.org/wgbh/americanexperience/features/pickford-early-history-motion-pictures/#:~:text=In%201888%20in%20New%20York,a%20primitive%20motion%20picture%20camera.), motion pictures have become increasingly popular. In 2020 the box-office revenue in the US alone was USD $11.300.000$\n",
    "\n",
    "## <span style=\"color:red\">Tilføj mere</span>\n",
    "\n",
    "\n",
    "### Data\n",
    "Almost everyone have a strong relationship to movies, the intrigue, enlighten, make you cry and make you laugh. We wanted to know more about the structure of the largest productions of them all, and that is why the project evolves around the [tmdb 5000](https://www.kaggle.com/tmdb/tmdb-movie-metadata) dataset. This dataset contains data on the plot, cast, crew, budget, and revenues of several thousand films, but have the advantage that the data is already filtered and cleaned. We choose this dataset as is provides a good foundation of our analysis, but other data sources will also in the report to verify and support the findings.\n",
    "\n",
    "\n",
    "### Goal of the project\n",
    "The overall idea of this project is to investigate interesting properties of Hollywood acting environment and how it has developed over time? As the dataset contains a lot of information, these properties have split into two major areas of focus. \n",
    "* Movies as a Voice of the times and the Evolution of Hollywood itself\n",
    "* Hollywood as a closed community structue, with few Actors working alot together. Furthermore, that these communities also exsist outside the set of the movies\n",
    "\n",
    "There are of course many more interesting elements to look at, kaggle suggests looking at \"... the success of a movie before it is released?\", or \"Are there certain companies (Pixar?) that have found a consistent formula?\", but our goal is that after having read this notebook, one would have gotten an in depth understanding of **hollywood as a voice of the times** and **the closed community structure of it**\n",
    "\n",
    "\n",
    "**NOTE: The analysis is split into different section to improove readability. Sections assume elements from ealiere sections are already established**"
   ]
  },
  {
   "cell_type": "markdown",
   "metadata": {},
   "source": [
    "## 1. [Data intro: Data processing and cleaning](https://nbviewer.jupyter.org/github/GSHDK/Social-Graphs-and-Interactions/blob/main/Jupyter/Project-Data-processing-and-cleaning.ipynb)\n",
    "## <span style=\"color:red\">Asses if more is needed</span>\n",
    "\n",
    "This section will present some of the results of the preliminary data analysis such as: Data sources, data sizing, preprocessing of the data such as text manipulation and reduction of the dataset\n",
    "\n",
    "## 2. [Analysis: Hollywood network and text analysis](https://nbviewer.jupyter.org/github/GSHDK/Social-Graphs-and-Interactions/blob/main/Project%20assignment%20B.ipynb)\n",
    "What does the hollywood network look like and how has it changed over time?\n",
    "\n",
    "In this section we will dive into the network constituted of the top 500 most productive actors in the dataset along with their movie connections. We will explore different attributes of the network, to gain an insight in who the top actors are? Which actors work together? How has the genre distribution changed? and much more.\n",
    "\n",
    "## 3. [Analysis: Wikipedia analysis for related decades](https://nbviewer.jupyter.org/github/GSHDK/Social-Graphs-and-Interactions/blob/main/Project%20assignment%20B-Wikipedia.ipynb)\n",
    "We have now seen how the hollywood network has changed, but can we find similarities between the decades websites on wikipedia and the evolution in the network? What if the french sociologist Pierre Bourdieus theory about habitus also apply to hollywood in a way? That hollywood is a result of the times.\n",
    "\n",
    "To investigate this we start of with an initial analysis of the decades wikipedia pages to make the foundation for the analysis.\n",
    "\n",
    "## 4. [Wrapup: Hollywood as a voice of the times?](https://nbviewer.jupyter.org/github/GSHDK/Social-Graphs-and-Interactions/blob/main/Jupyter/Project-Wrap-Up.ipynb)\n",
    "## <span style=\"color:red\">Only some plots currently</span>\n",
    "\n",
    "We know alot about the development in hollywood, but of course only a fraction of what this network can tell us. In this final section we will wrap up the story of hollywood with a comparison of hollywood sentiment and defining words to the times. \n",
    "\n",
    "As a finish we will recap some of the major point of the other sections and conclude on the project and analysis."
   ]
  },
  {
   "cell_type": "markdown",
   "metadata": {},
   "source": [
    "## <span style=\"color:red\">Discussion</span>\n",
    "#### Course goals\n",
    "* What went well?,\n",
    "* What is still missing? What could be improved?, Why?\n",
    "\n",
    "\n",
    "\n",
    "* Intro to how is has been working with the project etx\n",
    "\n",
    "\n",
    "### Ideas for topics\n",
    "\n",
    "#### <span style=\"color:red\">Limitations of looking at subset of graph</span>\n",
    "Lorem ipsum dolor sit amet, consectetuer adipiscing elit. Aenean commodo ligula eget dolor. Aenean massa. Cum sociis natoque penatibus et magnis dis parturient montes, nascetur ridiculus mus. Donec quam felis, ultricies nec, pellentesque eu, pretium quis, sem. Nulla consequat massa quis enim. Donec pede justo, fringilla vel, aliquet nec, v\n",
    "\n",
    "#### <span style=\"color:red\">Computational efforts related to community detections</span>\n",
    "Lorem ipsum dolor sit amet, consectetuer adipiscing elit. Aenean commodo ligula eget dolor. Aenean massa. Cum sociis natmpus. Donec vitae sapien ut libero venenatis faucibus. \n",
    "\n",
    "#### <span style=\"color:red\">What we like </span>\n",
    "Lorem ipsum dolor sit amet, consectetuer adipiscing elit. Aenean commodo ligula eget dolor. Aenean massa. Cum sociis natmpus. Donec vitae sapien ut libero venenatis faucibus. \n",
    "\n",
    "\n",
    "\n",
    "#### <span style=\"color:red\">What could have been done better</span>\n",
    "Lorem ipsum dolor sit amet, consectetuer adipiscing elit. Aenean commodo ligula eget dolor. Aenean massa. Cum sociis natmpus. Donec vitae sapien ut libero venenatis faucibus. \n",
    "\n",
    "\n"
   ]
  },
  {
   "cell_type": "markdown",
   "metadata": {},
   "source": [
    "## <span style=\"color:red\"> Project contribution </span>\n",
    "\n",
    "| Report Section                         | Main             | Co                |\n",
    "|---------------------------------|------------------|-------------------|\n",
    "| Related website                 | Alex2205         | Assibering        |\n",
    "| Text analysis - Hollywood       | GSHDK,Assibering | Alex2205          |\n",
    "| Community detection - Hollywood | Assibering       | GSHDK             |\n",
    "| Project organizing              | GSHDK            | Alex2205          |\n",
    "| Initial data analysis           | Alex2205         |                   |\n",
    "| Graph analysis                  | GSHDK            | Assibering, Alex2205|\n",
    "| Video presentation              | Alex2205         | GSHDK, Assibering |\n"
   ]
  },
  {
   "cell_type": "code",
   "execution_count": null,
   "metadata": {},
   "outputs": [],
   "source": []
  }
 ],
 "metadata": {
  "kernelspec": {
   "display_name": "Python 3",
   "language": "python",
   "name": "python3"
  },
  "language_info": {
   "codemirror_mode": {
    "name": "ipython",
    "version": 3
   },
   "file_extension": ".py",
   "mimetype": "text/x-python",
   "name": "python",
   "nbconvert_exporter": "python",
   "pygments_lexer": "ipython3",
   "version": "3.7.9"
  }
 },
 "nbformat": 4,
 "nbformat_minor": 4
}
