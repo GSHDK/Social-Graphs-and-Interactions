{
 "cells": [
  {
   "cell_type": "markdown",
   "metadata": {},
   "source": [
    "## Analysis of Hollywood Evolution\n",
    "\n",
    "How does the hollywood network look like and how has it changed over time\n",
    "\n",
    "In this section we will dive into the network and explore different attributes of the network, to gain insights on the elite of Hollywood. This will be structured into the 6 subsections listed below.\n",
    "\n",
    "* Investigation of the network - Get at reference point to some of the well known and documented networks\n",
    "    * [x] Links\n",
    "    * [x] In and out degree\n",
    "    * [x] Visualisation of the entire network with relevant attributes - SHOULD BE IMPROVED\n",
    "    * [ ] Comparison with Random Network\n",
    "    * [ ] Changes in degree distribution over time\n",
    "    \n",
    "* Genre - How are the top of Hollywood distributed across genres\n",
    "    * [x] Genre distribution over time\n",
    "    * [x] Genre popularity compared to average budget\n",
    "    * [ ] Particular patterns of actors work in genres - Asbjørn\n",
    "\n",
    "* Important words - What words stand out using TF-IDF schemas of the decades and across genres and decase\n",
    "    * [x] TF-IDF\n",
    "    * [x] Relation to dominant genres\n",
    "    * [x] Wordclouds\n",
    "    * [ ] Most important words -> similarity with the decades wikipedia page\n",
    "\n",
    "* Sentiment - How do people interpet the words of these segmentations?\n",
    "    * [ ] How does it relate to the TF-IDF\n",
    "    * [ ] Does it reflect the major events of the us/world?\n",
    "\n",
    "* Actor communities - What actors constitute movie communities and how has this changes over time?\n",
    "    * [ ] Are the communities high budget highly rated?\n",
    "\n",
    "* Wrapup - Can we generalize the trends in hollywood?\n"
   ]
  },
  {
   "cell_type": "code",
   "execution_count": 1,
   "metadata": {},
   "outputs": [],
   "source": [
    "from IPython.display import Image, clear_output\n",
    "import numpy as np\n",
    "import pandas as pd\n",
    "import matplotlib.pyplot as plt\n",
    "import networkx as nx\n",
    "import re\n",
    "import nltk\n",
    "import json\n",
    "import bar_chart_race as bcr\n",
    "import random\n",
    "import json\n",
    "from collections import Counter, defaultdict\n",
    "import urllib\n",
    "from datetime import datetime\n",
    "from ipywidgets import *\n",
    "import ipywidgets as widgets\n",
    "import time\n",
    "import math\n",
    "from nltk.corpus import stopwords\n",
    "from PIL import Image\n",
    "import seaborn as sns\n",
    "from pandas.core.common import SettingWithCopyWarning\n",
    "import warnings\n",
    "import copy\n",
    "warnings.simplefilter(action=\"ignore\", category=SettingWithCopyWarning)\n",
    "\n",
    "import sys\n",
    "sys.path.append('./Jupyter')\n",
    "from helpers import *\n",
    "\n",
    "\n",
    "\n",
    "#Init stopwords\n",
    "stop_words = set(stopwords.words('english'))"
   ]
  },
  {
   "cell_type": "code",
   "execution_count": 2,
   "metadata": {},
   "outputs": [],
   "source": [
    "try:\n",
    "    from fa2 import ForceAtlas2\n",
    "    from wordcloud import WordCloud, STOPWORDS, ImageColorGenerator\n",
    "    import gif\n",
    "except:\n",
    "    pass"
   ]
  },
  {
   "cell_type": "code",
   "execution_count": 9,
   "metadata": {},
   "outputs": [],
   "source": [
    "df, G = create_df_G_from_path(\"\")"
   ]
  },
  {
   "cell_type": "markdown",
   "metadata": {},
   "source": [
    "# <span style=\"color:red\">Actor communities</span>\n",
    "\n",
    "## Analysis of Actor Communities\n",
    "\n",
    "As presented in project assignment A, we have a theory that there exist small communities within Hollywood, where groups of actors do the majority of their work together in specific genres. The reasoning behind this is e.g. typacal actionfilm actors often end up starring together, simply because they prefer the same genre.\n",
    "\n",
    "In general terms, this section will uncover the communities of Hollywood, and investigate whether communities are genre dependent. \n",
    "\n",
    "To find the communities it has been chosen to use the Louvain algorithm. The following section will elaborate on why we've chosen this algorithm in particular."
   ]
  },
  {
   "cell_type": "markdown",
   "metadata": {},
   "source": [
    "<b>Modularity</b>\n",
    "\n",
    "Before diving into the Louvain algorithm, we must understand what it tries to partition the graph on. Modularity is a measure of how connected a group of nodes are, compared to how connected they're expected to be. The formula for modularity is given by:\n",
    "\n",
    "$$M = \\sum_{n=0}^{n_c} \\left[ \\frac{L_c}{L} - \\frac{k_c}{2L}^2 \\right]$$\n",
    "\n",
    "$L = $ Total number of links,\n",
    "$L_c = $ Number of links in community $c$,\n",
    "$n_c = $ Number of communities,\n",
    "$k_c = $ Total degree of the community $c$.\n",
    "\n",
    "If we remove the sum, and thus only investigate the modularity of 1 community, we can that a community gets a high modularity score, if they are 1) very connected to one another, and 2) not very connected to nodes outside the community. With expectation is meant, how connected we expect 2 nodes to be, if the network is randomly wired.\n",
    "\n",
    "In our case, having a weighted graph, $L_c$ will be equal to the sum of weights inside community $c$, whereas $L$ will be equal to the total sum of weights in the whole network."
   ]
  },
  {
   "cell_type": "markdown",
   "metadata": {},
   "source": [
    "<b>Louvain Algorithm</b>\n",
    "\n",
    "Having covered modularity, it seems reasonable to choose communities by maximixing modularity. Finding a best partition of a graph is by nature a hard problem, but the Louvain algorithm is an approximate method, which can gives a running time of $O(L)$.\n",
    "\n",
    "In simple terms, the louvain algorithm initially finds, for each node, the \"best\" neighboor with regards to modularity, that is, connecting to the node that causes the largest positive change in modularity, $\\Delta M$. We do this repeatedly, until $\\Delta M = 0$. Then the nodes in a community are merged into 1 node, with all their internal edges as self-loops, and the whole process is continuously repeated, until $\\Delta M = 0$.\n",
    "\n",
    "The order in which we consider the nodes are random, and therefore the algorithm is not deterministic. This an approximate method, because optimizing the modularity locally, by finding the best neighboor, is not guaranteed to give the best result globally. However, the algorithm is very popular, because it often finds a satisfactory partition, and because it is very fast."
   ]
  },
  {
   "cell_type": "markdown",
   "metadata": {},
   "source": [
    "<b>Modularity and Resolution Limit</b>\n",
    "\n",
    "Maximizing modularity will have difficulties finding communities smaller than the resolution limit, which is given by the formula:\n",
    "\n",
    "$$k \\leq \\sqrt{2L}$$\n",
    "\n",
    "In our case, this means, with our $L = 22415$, that we are going to have communities of  approximately size $212$. It is very hard to say something general about a network of actors of this size, thus we will force smaller communities. This is done by treating each community as a network itself, and then running the algorithm on this subgraph. Implementation-wise this magic has been done for us, where resolution is provided as a tuneable hyperparameter of the Louvain algorithm."
   ]
  },
  {
   "cell_type": "markdown",
   "metadata": {},
   "source": [
    "### Community Detection\n",
    "\n",
    "In this section we will detect our communities, and do so by forcing smaller communities than the resolution limit."
   ]
  },
  {
   "cell_type": "code",
   "execution_count": 16,
   "metadata": {},
   "outputs": [],
   "source": [
    "import community as community_louvain\n",
    "import networkx.algorithms.community as nx_comm"
   ]
  },
  {
   "cell_type": "code",
   "execution_count": 17,
   "metadata": {},
   "outputs": [],
   "source": [
    "def get_modularity(community_dict):\n",
    "    comvalues = np.array(list(community_dict.values()))\n",
    "    comkeys = np.array(list(community_dict.keys()))\n",
    "    \n",
    "    \n",
    "    l = []\n",
    "    \n",
    "    for i in np.unique(comvalues):\n",
    "        comkey_indices = np.where(comvalues == i)[0]\n",
    "        l1 = set()\n",
    "        for j in comkey_indices:\n",
    "            l1.add(comkeys[j])\n",
    "        l.append(l1)\n",
    "        \n",
    "    return nx_comm.modularity(G, l)"
   ]
  },
  {
   "cell_type": "markdown",
   "metadata": {},
   "source": [
    "<b>Choosing the resolution</b>\n",
    "\n",
    "We explore the modularity as a function of resolution. From this we pick a suitable resolution, which yields satisfactory community sizes.\n",
    "\n",
    "As previously stated, we use the Louvain algorithm."
   ]
  },
  {
   "cell_type": "code",
   "execution_count": 63,
   "metadata": {},
   "outputs": [],
   "source": [
    "def get_best_coms(Graph):\n",
    "    best_mod = -2\n",
    "    res = np.linspace(10**-1, 0.7, num=20)\n",
    "    mod_scores = []\n",
    "    best_res = res[0]\n",
    "    for i in res:\n",
    "        new_mod = get_modularity(community_louvain.best_partition(Graph, resolution=i))\n",
    "        mod_scores.append(new_mod)\n",
    "        if new_mod > best_mod:\n",
    "            best_mod = new_mod\n",
    "            best_res = i\n",
    "    \n",
    "    return res, mod_scores, community_louvain.best_partition(Graph, resolution=best_res)"
   ]
  },
  {
   "cell_type": "code",
   "execution_count": 64,
   "metadata": {},
   "outputs": [],
   "source": [
    "Res, mod_Scores, com_dict = get_best_coms(G)"
   ]
  },
  {
   "cell_type": "code",
   "execution_count": 65,
   "metadata": {},
   "outputs": [
    {
     "data": {
      "image/png": "[encoded data removed]",
      "text/plain": [
       "<Figure size 432x288 with 1 Axes>"
      ]
     },
     "metadata": {
      "needs_background": "light"
     },
     "output_type": "display_data"
    }
   ],
   "source": [
    "plt.plot(Res, mod_Scores)\n",
    "plt.xlabel('Resolution')\n",
    "plt.ylabel('Modularity')\n",
    "plt.title('Optimizing resolution with regards to Modularity')\n",
    "plt.show()"
   ]
  },
  {
   "cell_type": "markdown",
   "metadata": {},
   "source": [
    "<b>Analyzing performance</b>\n",
    "\n",
    "We notice that we have a modularity score of 0.18, when choosing a resolution of $0.7$. This is not an impressive modularity score, which questions the community detection method. By using the Louvain algorithm, we force each node to be part of exactly 1 community. Considering e.g. Samuel L. Jackson, having starred with 176/500 of the actors in the network, it seems unreasonable to force him into one small actor community, and this will be the case for many actors.\n",
    "\n",
    "It is maybe more likely that these top 500 actors, are in fact part of multiple communities in Hollywood. Using e.g. link clustering would remove the one-community constraint, which might is arguably a reasonable choice in our case.\n",
    "\n",
    "Before concluding our communities are of poor quality, we will investigate how many strong communties there. A strong community is defined in the book as:\n",
    "\n",
    "> $C$ is a strong community if each node within $C$ has more links within the community than with the rest of the graph. Specifically, a subgraph $C$ forms a strong community if for each node $i ∈ C$,  $k_i^{int}(C)> Ck_i^{ext}(C)$."
   ]
  },
  {
   "cell_type": "code",
   "execution_count": 66,
   "metadata": {},
   "outputs": [],
   "source": [
    "#Add community as node attribute\n",
    "nx.set_node_attributes(G, com_dict, \"community\")"
   ]
  },
  {
   "cell_type": "code",
   "execution_count": 67,
   "metadata": {},
   "outputs": [],
   "source": [
    "com_df = pd.DataFrame.from_dict(com_dict, orient='index')\n",
    "com_df.rename({0:'community'}, axis=1, inplace=True)"
   ]
  },
  {
   "cell_type": "code",
   "execution_count": 68,
   "metadata": {},
   "outputs": [],
   "source": [
    "communities = set(com_df['community'].values)"
   ]
  },
  {
   "cell_type": "code",
   "execution_count": 69,
   "metadata": {},
   "outputs": [
    {
     "name": "stdout",
     "output_type": "stream",
     "text": [
      "Community 0 is NOT strong\n",
      "Community 1 is NOT strong\n",
      "Community 2 is NOT strong\n",
      "Community 3 is NOT strong\n",
      "Community 4 is NOT strong\n",
      "Community 5 is NOT strong\n",
      "Community 6 is NOT strong\n",
      "Community 7 is NOT strong\n",
      "Community 8 is NOT strong\n",
      "Community 9 is NOT strong\n",
      "Community 10 is NOT strong\n",
      "Community 11 is NOT strong\n",
      "Community 12 is NOT strong\n",
      "Community 13 is NOT strong\n",
      "Community 14 is NOT strong\n",
      "Community 15 is NOT strong\n",
      "Community 16 is NOT strong\n",
      "Community 17 is NOT strong\n",
      "Community 18 is NOT strong\n"
     ]
    }
   ],
   "source": [
    "for i in communities:\n",
    "    for j in G.subgraph(com_df[com_df['community']==i].index).nodes():\n",
    "        Strong = True\n",
    "        inside_edges = G.subgraph(com_df[com_df['community']==i].index).degree(j, weight='weight')\n",
    "        total_edges = G.degree(j, weight='weight')\n",
    "        \n",
    "        if inside_edges < 0.5*total_edges:\n",
    "            print(\"Community {} is NOT strong\".format(i))\n",
    "            Strong = False\n",
    "            break\n",
    "    \n",
    "    if Strong:\n",
    "        print(\"Community {} IS strong\".format(i))"
   ]
  },
  {
   "cell_type": "markdown",
   "metadata": {},
   "source": [
    "Unfortunately, this supports our theory that assigning each actor to 1 community is maybe not reasonable in our case. We will now test whether there are at least some weak communities, which is defined as:\n",
    "\n",
    "> $C$ is a weak community if the total internal degree of a subgraph exceeds its total external degree. Specifically, a subgraph $C$ forms a weak community if $\\sum_{n∈C}k_i^{int}(C)>\\sum_{n∈C}k_i^{ext}(C)$."
   ]
  },
  {
   "cell_type": "code",
   "execution_count": 83,
   "metadata": {},
   "outputs": [
    {
     "name": "stdout",
     "output_type": "stream",
     "text": [
      "Community 0 is NOT weak\n",
      "Community 1 is NOT weak\n",
      "Community 2 is NOT weak\n",
      "Community 3 is NOT weak\n",
      "Community 4 is NOT weak\n",
      "Community 5 is NOT weak\n",
      "Community 6 is NOT weak\n",
      "Community 7 is NOT weak\n",
      "Community 8 is NOT weak\n",
      "Community 9 is NOT weak\n",
      "Community 10 is NOT weak\n",
      "Community 11 is NOT weak\n",
      "Community 12 is NOT weak\n",
      "Community 13 is NOT weak\n",
      "Community 14 is NOT weak\n",
      "Community 15 is NOT weak\n",
      "Community 16 is NOT weak\n",
      "Community 17 is NOT weak\n",
      "Community 18 is NOT weak\n"
     ]
    }
   ],
   "source": [
    "for i in communities:\n",
    "    int_degree = G.subgraph(com_df[com_df['community']==i].index).size(weight='weight')\n",
    "    total_ext_degree = 0\n",
    "    for j in G.subgraph(com_df[com_df['community']==i].index).nodes():\n",
    "        Weak = True\n",
    "        total_ext_degree += G.degree(j, weight='weight')\n",
    "        \n",
    "        if int_degree < 0.5*total_ext_degree:\n",
    "            print(\"Community {} is NOT weak\".format(i))\n",
    "            Weak = False\n",
    "            break\n",
    "    \n",
    "    if Weak:\n",
    "        print(\"Community {} IS weak\".format(i))"
   ]
  },
  {
   "cell_type": "markdown",
   "metadata": {},
   "source": [
    "<b>Not a good partition</b>\n",
    "\n",
    "We can now conclude that the partition is not very good, since we do not even have weak communities. Naturally we will need to keep this in mind, when we analyze the communities."
   ]
  },
  {
   "cell_type": "markdown",
   "metadata": {},
   "source": [
    "<b>Genre Based communities</b>\n",
    "\n",
    "Having detected our communities, even though they are of somewhat poor quality, we now wish to investigate whether these are communties are strongly dependent on genre. Remember out theory is that e.g. most action actors star together often, simply because they have the same genre preference, and thus often end up as co-stars."
   ]
  },
  {
   "cell_type": "code",
   "execution_count": 84,
   "metadata": {},
   "outputs": [],
   "source": [
    "def get_genre_bar(community):\n",
    "    genre_summed = Counter()\n",
    "    for i in G.subgraph(com_df[com_df['community']==community].index).nodes:\n",
    "        genre_summed += G.nodes[i]['genre']\n",
    "        \n",
    "    norm = np.sum(np.array(list(genre_summed.values())))\n",
    "    \n",
    "    return np.array(list(genre_summed.keys())), np.array(list(genre_summed.values()))/np.sum(np.array(list(genre_summed.values())))"
   ]
  },
  {
   "cell_type": "code",
   "execution_count": 85,
   "metadata": {},
   "outputs": [],
   "source": [
    "com_df['n_actors']=1\n",
    "com_df = com_df.rename(columns = {0:'community'})\n",
    "com_df_1 = com_df.groupby('community').sum()"
   ]
  },
  {
   "cell_type": "code",
   "execution_count": 86,
   "metadata": {},
   "outputs": [],
   "source": [
    "genre_set = set()\n",
    "\n",
    "for i in df.index:\n",
    "    dict_ = json.loads(df['genres'].loc[i])\n",
    "    for j in dict_:\n",
    "        genre_set.add(j['name'])"
   ]
  },
  {
   "cell_type": "code",
   "execution_count": 87,
   "metadata": {},
   "outputs": [],
   "source": [
    "for i in genre_set:\n",
    "    com_df_1[i] = 0"
   ]
  },
  {
   "cell_type": "code",
   "execution_count": 88,
   "metadata": {},
   "outputs": [],
   "source": [
    "for i in com_df_1.index:\n",
    "    genres, count = get_genre_bar(i)\n",
    "    idx = 0\n",
    "    for j in genres:\n",
    "        com_df_1[j].loc[i] = count[idx]\n",
    "        idx += 1"
   ]
  },
  {
   "cell_type": "code",
   "execution_count": 89,
   "metadata": {},
   "outputs": [
    {
     "data": {
      "image/png": "[encoded data removed]",
      "text/plain": [
       "<Figure size 432x288 with 1 Axes>"
      ]
     },
     "metadata": {
      "needs_background": "light"
     },
     "output_type": "display_data"
    }
   ],
   "source": [
    "r = np.arange(len(com_df_1))\n",
    "barwidth = 0.75\n",
    "bottom_ = np.zeros(len(com_df_1))\n",
    "\n",
    "for i in com_df_1.drop('n_actors',axis=1).columns:\n",
    "    bar = com_df_1[i].values\n",
    "    plt.bar(r, bar, bottom=bottom_, width=barwidth, label=i)\n",
    "    bottom_ = np.add(bottom_, bar).tolist()\n",
    "\n",
    "plt.ylim(0,1)\n",
    "plt.xticks(r, com_df_1.index, rotation='vertical')\n",
    "plt.xlabel('Community')\n",
    "plt.ylabel('Genre distribution')\n",
    "plt.show()"
   ]
  },
  {
   "cell_type": "markdown",
   "metadata": {},
   "source": [
    "From this plot we see that actors in communities work with one another <b>across</b> genres. This was unexpected, since we had a theory that these communties would be strongly dependent on genre preferences of the actors inside the communities."
   ]
  },
  {
   "cell_type": "markdown",
   "metadata": {},
   "source": [
    "It seems that the actor communities are not dependent on the genre. This means that actors in the same community, star together accross different genres, which is an interesting result, because then what drives the community formation?\n",
    "\n",
    "Now, when we see that actors in each community star together accross all genres, there must be another driver behind why some actors often star in the same movie. This naturally leaves 3 options:\n",
    "\n",
    "* Actors have preferences with regards to co-stars, and selecting their next movie is dependent on who their co-stars are. An example could be that 2 actors are good friends, and therefore they like doing movies together.\n",
    "\n",
    "\n",
    "* The public opinion of the on-screen relationship between the 2 actors. Because the public likes to see the 2 actors together, they are often cast together.\n",
    "\n",
    "\n",
    "* A combination of the 2 above, which seems like the most likely.\n",
    "\n",
    "Naturally, 2 actors that dislike each other will not star together often, and casters won't cast 2 actors together often, if the public dislikes them on screen together. Therefore it seems more likely that a combination of the two determines which community an actor is in."
   ]
  },
  {
   "cell_type": "markdown",
   "metadata": {},
   "source": [
    "### Community Conclusion\n",
    "\n",
    "Unfortunately the detected communities we not even weak communities, and therefore it can be difficult to draw conclusions on what determines, what is the main driver behind the community an actor ends up in. As discussed previously, allowing actors to be present in multiple communities, thus doing link clustering, might be more suitable for our problem, because the network resembles a fur ball, where most actors are connected, which is also emphasized by the very small average shortest path in the network.\n",
    "\n",
    "Ignoring the fact that our communities are of poor quality, it still seems that communities are not driven by genres, which is an interesting observation. Being independent of genre, one could argue that personal relationships between actors, is a driver for who is often co-starring in movies."
   ]
  },
  {
   "cell_type": "markdown",
   "metadata": {},
   "source": [
    "## <span style=\"color:red\">Section wrap up</span>\n",
    "\n",
    "\n",
    "Insert data etc."
   ]
  },
  {
   "cell_type": "markdown",
   "metadata": {},
   "source": [
    "# <span style=\"color:red\">Final thoughts</span>\n"
   ]
  }
 ],
 "metadata": {
  "kernelspec": {
   "display_name": "Python 3",
   "language": "python",
   "name": "python3"
  },
  "language_info": {
   "codemirror_mode": {
    "name": "ipython",
    "version": 3
   },
   "file_extension": ".py",
   "mimetype": "text/x-python",
   "name": "python",
   "nbconvert_exporter": "python",
   "pygments_lexer": "ipython3",
   "version": "3.7.6"
  }
 },
 "nbformat": 4,
 "nbformat_minor": 4
}
