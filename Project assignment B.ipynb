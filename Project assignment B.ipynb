{
 "cells": [
  {
   "cell_type": "markdown",
   "metadata": {},
   "source": [
    "## Analysis of Hollywood Evolution\n",
    "\n",
    "How does the hollywood network look like and how has it changed over time\n",
    "\n",
    "In this section we will dive into the network and explore different attributes of the network, to gain insights on the elite of Hollywood. This will be structured into the 6 subsections listed below.\n",
    "\n",
    "* Investigation of the network - Get at reference point to some of the well known and documented networks\n",
    "    * [x] Links\n",
    "    * [x] In and out degree\n",
    "    * [x] Visualisation of the entire network with relevant attributes - SHOULD BE IMPROVED\n",
    "    * [ ] Comparison with Random Network\n",
    "    * [ ] Changes in degree distribution over time\n",
    "    \n",
    "* Genre - How are the top of Hollywood distributed across genres\n",
    "    * [x] Genre distribution over time\n",
    "    * [x] Genre popularity compared to average budget\n",
    "    * [ ] Particular patterns of actors work in genres - Asbjørn\n",
    "\n",
    "* Important words - What words stand out using TF-IDF schemas of the decades and across genres and decase\n",
    "    * [x] TF-IDF\n",
    "    * [x] Relation to dominant genres\n",
    "    * [x] Wordclouds\n",
    "    * [ ] Most important words -> similarity with the decades wikipedia page\n",
    "\n",
    "* Sentiment - How do people interpet the words of these segmentations?\n",
    "    * [ ] How does it relate to the TF-IDF\n",
    "    * [ ] Does it reflect the major events of the us/world?\n",
    "\n",
    "* Actor communities - What actors constitute movie communities and how has this changes over time?\n",
    "    * [ ] Are the communities high budget highly rated?\n",
    "\n",
    "* Wrapup - Can we generalize the trends in hollywood?\n"
   ]
  },
  {
   "cell_type": "code",
   "execution_count": 1,
   "metadata": {},
   "outputs": [],
   "source": [
    "\n",
    "from IPython.display import Image, clear_output\n",
    "import numpy as np\n",
    "import pandas as pd\n",
    "import matplotlib.pyplot as plt\n",
    "import networkx as nx\n",
    "import re\n",
    "import nltk\n",
    "import json\n",
    "import bar_chart_race as bcr\n",
    "import random\n",
    "import json\n",
    "from collections import Counter, defaultdict\n",
    "import urllib\n",
    "from datetime import datetime\n",
    "from ipywidgets import *\n",
    "import ipywidgets as widgets\n",
    "import time\n",
    "import math\n",
    "from nltk.corpus import stopwords\n",
    "from PIL import Image\n",
    "import seaborn as sns\n",
    "from pandas.core.common import SettingWithCopyWarning\n",
    "import warnings\n",
    "import copy\n",
    "warnings.simplefilter(action=\"ignore\", category=SettingWithCopyWarning)\n",
    "\n",
    "\n",
    "\n",
    "#Init stopwords\n",
    "stop_words = set(stopwords.words('english'))"
   ]
  },
  {
   "cell_type": "code",
   "execution_count": 2,
   "metadata": {},
   "outputs": [],
   "source": [
    "try:\n",
    "    from fa2 import ForceAtlas2\n",
    "    from wordcloud import WordCloud, STOPWORDS, ImageColorGenerator\n",
    "    import gif\n",
    "except:\n",
    "    pass"
   ]
  },
  {
   "cell_type": "code",
   "execution_count": 3,
   "metadata": {},
   "outputs": [],
   "source": [
    "%run -i 'Jupyter/helpers.py'"
   ]
  },
  {
   "cell_type": "code",
   "execution_count": 4,
   "metadata": {},
   "outputs": [],
   "source": [
    "df, G = create_df_G_from_path('')"
   ]
  },
  {
   "cell_type": "markdown",
   "metadata": {},
   "source": [
    "### Network investigation\n",
    "To gain deeper insight into our network we will start off by letting the data talk"
   ]
  },
  {
   "cell_type": "code",
   "execution_count": null,
   "metadata": {},
   "outputs": [],
   "source": [
    "# ANALYSIS\n",
    "print(f\"Number of nodes in network: {G.number_of_nodes()}\")\n",
    "print(f\"Number of links (edges) in network: {G.number_of_edges()}\")\n",
    "print(f\"Average number of links per node: {round(G.number_of_edges()/G.number_of_nodes(),2)}\")\n",
    "print(f\"Average shortes path: {round(nx.algorithms.average_shortest_path_length(G),4)}\")"
   ]
  },
  {
   "cell_type": "code",
   "execution_count": null,
   "metadata": {},
   "outputs": [],
   "source": [
    "in_degree = sorted([(d,n) for n, d in G.degree()], reverse=True)\n",
    "print('Top 5 most connected characters (movies, Actor)')\n",
    "print(*in_degree[0:5], sep='\\n')"
   ]
  },
  {
   "cell_type": "markdown",
   "metadata": {},
   "source": [
    "From the above we see that the network is very highly connected with every node on average connecting to 36.44 other actors and an average shortest path only being 1.85. Relating this to the small world phenomenon known as six degrees of separation, which refeers to \"two individuals, anywhere in the world, can be connected through a chain of six or fewer acquaintances\"[\\[1\\]](http://networksciencebook.com/chapter/3#small-worlds), this network already by itself a community relating it to the larger population\n",
    "\n",
    "From the data it looks like the actors are contributing to a very similiar amount of movies, which could lead one to believe that the network amongst the top 500 does not follow a **power law distribution** \n",
    "\n",
    "Lets take a look at this along, with the productivity over time for the actors"
   ]
  },
  {
   "cell_type": "code",
   "execution_count": null,
   "metadata": {},
   "outputs": [],
   "source": [
    "# Degree\n",
    "degree = sorted(G.degree, key=lambda x: x[1], reverse=True)\n",
    "# Splitting the sequence\n",
    "degree_sequence = sorted([d for n, d in degree], reverse=True)\n",
    "# Creating the histogram bins and counts\n",
    "hist, bin_edges = np.histogram(np.array(degree_sequence), bins=np.arange(degree[-1][1], degree[0][1]+2))\n",
    "\n",
    "# For the barplot\n",
    "degreeCount = Counter(degree_sequence) # Count the degrees\n",
    "deg, cnt = zip(*degreeCount.items()) # deg: degree, cnt: the count of the degree\n"
   ]
  },
  {
   "cell_type": "code",
   "execution_count": null,
   "metadata": {},
   "outputs": [],
   "source": [
    "# Plot:\n",
    "fig, axarr = plt.subplots(1, 2, figsize=(16,8))\n",
    "fig.suptitle(\"Degree distribution\", fontsize=16)\n",
    "\n",
    "axarr[0].bar(deg,cnt,color='dodgerblue')\n",
    "axarr[0].set_xlabel('Degree')\n",
    "axarr[0].set_ylabel(\"Frequency\")\n",
    "axarr[0].set_xlim([-3,max(deg)+10])\n",
    "axarr[0].set_title(\"Histogram of degree distribution\")\n",
    "\n",
    "axarr[1].loglog(bin_edges[:-1],hist,'.', color=\"mediumseagreen\")\n",
    "axarr[1].set_xlabel('Degree')\n",
    "axarr[1].set_ylabel(\"Frequency\")\n",
    "axarr[1].set_title(\"Degree distribution (Log-Log)\")\n",
    "\n",
    "fig.tight_layout()\n",
    "fig.subplots_adjust(top=0.9)\n",
    "plt.show()"
   ]
  },
  {
   "cell_type": "code",
   "execution_count": null,
   "metadata": {},
   "outputs": [],
   "source": [
    "# Reverse lookup for speed increase\n",
    "reverse_movie_year_lookup={}\n",
    "for row in df.iterrows():\n",
    "    if pd.isna(row[1]['release_date']):\n",
    "        continue\n",
    "    reverse_movie_year_lookup[row[1]['original_title']] = row[1]['release_date']\n",
    "\n",
    "#Extract data\n",
    "relase_data = []\n",
    "for node in G.nodes:\n",
    "    actor_movies = sorted([reverse_movie_year_lookup[x].year for x in G.nodes[node]['movies']])\n",
    "    first_release = min(actor_movies)\n",
    "    actor_movies = [x-first_release for x in actor_movies]\n",
    "    relase_data.append((node, actor_movies, [x for x in range(1,len(actor_movies)+1)]))\n",
    "    \n",
    "    "
   ]
  },
  {
   "cell_type": "code",
   "execution_count": null,
   "metadata": {},
   "outputs": [],
   "source": [
    "limit=7\n",
    "l_relase_data=len(relase_data)\n",
    "relase_data=sorted(relase_data, key=lambda x: len(x[1]), reverse=True)[0:limit]+sorted(relase_data, key=lambda x: len(x[1]), reverse=True)[l_relase_data-limit:l_relase_data]\n",
    "fig, ax = plt.subplots(figsize=(15, 6))\n",
    "for i in range(len(relase_data)):\n",
    "    l_postfix=' TOP'\n",
    "    if i>=limit:\n",
    "        l_postfix=' BOTTOM'\n",
    "    ax.plot(relase_data[i][1], relase_data[i][2], label=relase_data[i][0]+l_postfix,linewidth=3)\n",
    "ax.set_ylim(1)\n",
    "ax.set_ylabel('Movies')\n",
    "ax.set_xlabel('Years since first production')\n",
    "plt.title(f'Actor productivity since first hollywood production - top and bottom: {limit}')\n",
    "plt.legend()\n",
    "plt.show()"
   ]
  },
  {
   "cell_type": "markdown",
   "metadata": {},
   "source": [
    "This seems to validate our assumption of the network to not follow a powerlaw distribution. The data semmes normal distributed around 65 with a slight right skewness, though not completely. The initial analysis of this plot would lead one to belive that there can be actually quite a large gap between the top and bottom actors. There might be, but the distribution plot removes the focus from the fact that some actors have been much longer in the business, and therefore have had more time to produce movies. For this the actor productivity provides alot more information about what the differences are between the actors productivity.\n",
    "\n",
    "The plot of actor productivity seems to a story along the same lines, that even between **the top 500 Actors** there are quite a big diffenrence in productivity between the top and bottom. Samuel L. Jackson has produced around 20 movies pr. decade while Michael McKean produces around 6 in the first 20 years\n",
    "\n",
    "**Overvejelse om dette skal fjernes**\n",
    "Relating this to the movies industry we also know that some actors can produce very large amount in a short time without great imdb scores where as others work on slower productions with a higher focus on production values."
   ]
  },
  {
   "cell_type": "markdown",
   "metadata": {},
   "source": [
    "### Visual representation of the network\n",
    "\n",
    "Lets take a look at the full network sizing the actors after productivity, coloring after most common genre, and letting opacity of edges reflect how much two actors have worked together"
   ]
  },
  {
   "cell_type": "code",
   "execution_count": null,
   "metadata": {},
   "outputs": [],
   "source": [
    "forceatlas2 = ForceAtlas2(\n",
    "                        # Behavior alternatives\n",
    "                        outboundAttractionDistribution=False,  # Dissuade hubs\n",
    "                        edgeWeightInfluence=0.6,\n",
    "\n",
    "                        # Performance\n",
    "                        jitterTolerance=0.15,  # Tolerance\n",
    "                        barnesHutOptimize=True,\n",
    "                        barnesHutTheta=0.7,\n",
    "\n",
    "                        # Tuning\n",
    "                        scalingRatio=4.0,\n",
    "                        strongGravityMode=True,\n",
    "                        gravity=1.0,\n",
    "\n",
    "                        # Log\n",
    "                        verbose=True)"
   ]
  },
  {
   "cell_type": "code",
   "execution_count": null,
   "metadata": {},
   "outputs": [],
   "source": [
    "#@gif.frame\n",
    "def weight_color_map(weight, inverse_color=False):\n",
    "    inv_fac=0\n",
    "    if inverse_color:\n",
    "        inv_fac=1\n",
    "    get_tuple = lambda x: tuple(abs(inv_fac-x) for y in range(3))\n",
    "    \n",
    "    # Low weight edge\n",
    "    if weight<2:\n",
    "        \n",
    "        #white\n",
    "        if not inverse_color:\n",
    "            (1,0,0)\n",
    "        return get_tuple(0.9)\n",
    "    # Mid weight edge\n",
    "    elif weight <5:\n",
    "        \n",
    "        return get_tuple(0.6)\n",
    "    # mid-high weight edge\n",
    "    elif weight <7:\n",
    "        # Green\n",
    "        return (0.3, 0.8, 0)\n",
    "    # High weight edge\n",
    "    else:\n",
    "        # Dark red\n",
    "        return (1, 0, 0)\n",
    "    \n",
    "    \n",
    "def plot_graph(G, actor_label_movie_limit=40, inverse_color=False):\n",
    "    color_map = {}\n",
    "    for genre in list(set([G.nodes[x]['top_genre'] for x in list(G.nodes)])):\n",
    "        color_map[genre] = []\n",
    "\n",
    "    for node in G.nodes:\n",
    "        color_map[G.nodes[node]['top_genre']] += [node]\n",
    "    fig, ax = plt.subplots(figsize=(18,16))\n",
    "\n",
    "    positions = forceatlas2.forceatlas2_networkx_layout(G, pos=None, iterations=5)\n",
    "    \n",
    "    color = {'Action': 'Red', 'Adventure': 'Blue', 'Animation': 'Pink', 'Comedy': 'Green', 'Crime': 'Brown',\\\n",
    "          'Drama': 'Cyan', 'Family': 'Yellow', 'Thriller' : 'White', 'Romance': 'Orange', 'Science Fiction': 'Black'}\n",
    "    # Inverse\n",
    "    node_label_color = 'black'\n",
    "    if inverse_color:\n",
    "        node_label_color='white'\n",
    "    \n",
    "    \n",
    "    \n",
    "    # Missing node sizing\n",
    "    for key in color_map.keys():\n",
    "        nx.draw_networkx_nodes(G,pos=positions,nodelist=color_map[key],\\\n",
    "            node_size=[int(G.nodes[x]['movies_count'])*2 for x in color_map[key]], node_color=color[key], label=key, ax=ax)\n",
    "        #[G.degree(y) for y in color_map[key]]\n",
    "    \n",
    "    colormap_edges = [weight_color_map(G[u][v]['weight'], inverse_color) for u,v in G.edges]\n",
    "    nx.draw_networkx_edges(G, positions, edge_color=colormap_edges, alpha=0.4, ax = ax,width=2)\n",
    "    ax.legend(scatterpoints = 1)\n",
    "    nx.draw_networkx_labels(G, positions,{y:'' if G.nodes[y]['movies_count']<actor_label_movie_limit else y for y in positions.keys()}, font_size=14, font_color=node_label_color, ax = ax)\n",
    "    ax.axis('off')\n",
    "    title_obj = ax.set_title('Top 500 Actors \\n Colored after most common genre, sized after total feature films')\n",
    "    plt.setp(title_obj, color='white') \n",
    "    plt.setp(title_obj, fontsize=15) \n",
    "\n",
    "    if inverse_color:\n",
    "        ax.set_facecolor('black')\n",
    "        fig.set_facecolor('black')\n",
    "    return ax"
   ]
  },
  {
   "cell_type": "code",
   "execution_count": null,
   "metadata": {},
   "outputs": [],
   "source": [
    "ax = plot_graph(G, actor_label_movie_limit=35, inverse_color=True)\n",
    "plt.show()"
   ]
  },
  {
   "cell_type": "markdown",
   "metadata": {},
   "source": [
    "From the above plot we see that there seem to be an overweight of actors acting within the genres of Comedy and Drama. As the connection degree so high it's a bit difficult to see what is going on, but we see that there definitly are some central noedes in the network.\n",
    "\n",
    "**Sig lidt mere og forbedre graf**\n",
    "* Tilføj nodesize\n",
    "* Find en smart måde ikke at plotte edges der er under 2 etc."
   ]
  },
  {
   "cell_type": "markdown",
   "metadata": {},
   "source": [
    "## <span style=\"color:red\">Remove before final version</span>"
   ]
  },
  {
   "cell_type": "markdown",
   "metadata": {},
   "source": [
    "### Create GIF"
   ]
  },
  {
   "cell_type": "code",
   "execution_count": null,
   "metadata": {},
   "outputs": [],
   "source": [
    "gif.options.matplotlib[\"dpi\"] = 800"
   ]
  },
  {
   "cell_type": "code",
   "execution_count": null,
   "metadata": {},
   "outputs": [],
   "source": [
    "rand_neighbors = []\n",
    "\n",
    "for i in range(20):\n",
    "    n1 = np.random.randint(low = 20, high = 40)\n",
    "    n2 = np.random.randint(low = 5, high = 8)\n",
    "    n = list(G.neighbors('Samuel L. Jackson'))[n1:n1+n2] + ['Samuel L. Jackson']\n",
    "    rand_neighbors += [n]"
   ]
  },
  {
   "cell_type": "code",
   "execution_count": null,
   "metadata": {},
   "outputs": [],
   "source": [
    "%%capture\n",
    "frames = []\n",
    "for n in rand_neighbors:\n",
    "    frame = plot_graph(G.subgraph(n))\n",
    "    frames.append(frame)"
   ]
  },
  {
   "cell_type": "code",
   "execution_count": null,
   "metadata": {},
   "outputs": [],
   "source": [
    "gif.save(frames, 'network.gif', duration=40, unit=\"s\", between=\"startend\")"
   ]
  },
  {
   "cell_type": "markdown",
   "metadata": {},
   "source": [
    "### End GIF"
   ]
  },
  {
   "cell_type": "markdown",
   "metadata": {},
   "source": [
    "## Genre\n",
    "\n",
    "Now that we have a basic understanding of the network we can start taking a look at how the movie distribution looks across genres. In the network plot we saw a larger overweight of drama and comedy actors, but this the based on their most common genre. Even if there is only a small differece in number of total genre features."
   ]
  },
  {
   "cell_type": "code",
   "execution_count": null,
   "metadata": {},
   "outputs": [],
   "source": [
    "# Has there been a large change in the most popular genre\n",
    "df.sort_values('release_date', inplace=True)\n",
    "\n",
    "movie_genre={}\n",
    "for x in df.iterrows():\n",
    "    movie_genre[x[1]['original_title']]=[y['name'] for y in json.loads(x[1]['genres'])]\n",
    "\n",
    "\n",
    "genres=set([y for x in movie_genre.values() for y in x])\n",
    "data = defaultdict(lambda: defaultdict(int))\n",
    "\n",
    "for x in df.iterrows():\n",
    "    for y in json.loads(x[1]['genres']):\n",
    "        data[x[1]['release_date'].year][y['name']]+=1\n",
    "# Set missing values\n",
    "for k in data.keys():\n",
    "    missing_k=genres.difference(set( x for x in data[k].keys()))\n",
    "    for genre in missing_k:\n",
    "        data[k][genre]=0"
   ]
  },
  {
   "cell_type": "markdown",
   "metadata": {},
   "source": [
    "**Interactive plot only avaliable locally**\n",
    "Below we can interact with horizontal bar plot showing genre activity across the different years."
   ]
  },
  {
   "cell_type": "code",
   "execution_count": null,
   "metadata": {
    "scrolled": true
   },
   "outputs": [],
   "source": [
    "%matplotlib inline\n",
    "plt.ioff()\n",
    "np.random.seed(19680801)\n",
    "plt.rcdefaults()\n",
    "y_pos = np.arange(len(genres))\n",
    "# Get names a lazy way\n",
    "genres_ = [x[0] for x in sorted(data[2000].items())]\n",
    "colors = np.random.rand(len(genres),3)\n",
    "ax.set_yticks(y_pos)\n",
    "ax.set_yticklabels(genres_)\n",
    "ax.set_xlabel('Movie Count')\n",
    "ax.set_title('Genre distribution')\n",
    "\n",
    "\n",
    "def update(year):\n",
    "    performance = [x[1] for x in sorted(data[year].items())]\n",
    "    plt.barh(y_pos, performance, align='center', color=colors)\n",
    "    plt.xlabel('Movie Count')\n",
    "    plt.title('Genre distribution')\n",
    "\n",
    "interact(update, year = data.keys());"
   ]
  },
  {
   "cell_type": "markdown",
   "metadata": {},
   "source": [
    "Invesitgating for different years we see that in the early period of dataset - before 1970 - there is not a lot of datapoints. Lets plot a small movie to see how it changes from beginning to of data"
   ]
  },
  {
   "cell_type": "code",
   "execution_count": null,
   "metadata": {},
   "outputs": [],
   "source": [
    "# Multiple plots shown as a movie\n",
    "\n",
    "%matplotlib inline\n",
    "np.random.seed(19680801)\n",
    "plt.rcdefaults()\n",
    "\n",
    "cumm=True\n",
    "\n",
    "# Example data\n",
    "y_pos = np.arange(len(genres))\n",
    "colors = np.random.rand(len(genres),3)\n",
    "#lazy init\n",
    "labels_=[x[0] for x in sorted(data[2000].items())]\n",
    "\n",
    "cumm_data=np.zeros(len(labels_))\n",
    "for year in data.keys():    \n",
    "    performance = [x[1] for x in sorted(data[year].items())]\n",
    "    cumm_data+=performance\n",
    "    if cumm:\n",
    "        performance=cumm_data\n",
    "    plt.barh(y_pos, performance, align='center', color=colors)\n",
    "    plt.xlabel('Performance')\n",
    "    plt.yticks(y_pos,labels_)\n",
    "    plt.title(f\"Distribution of Genres Year: {year}\")\n",
    "    plt.show()\n",
    "    time.sleep(0.1)\n",
    "    clear_output(wait=True)"
   ]
  },
  {
   "cell_type": "markdown",
   "metadata": {},
   "source": [
    "From the above plot we see that drama seems to have been the main genre since the begining of the dataset. Something else that stands out is the rise of popularity of especially comedy and thrillers in the 1990 and onwards. This might be due to the rise of sitcoms such as Friends and Seinfield, which might also have brought the genres into the theaters. To verify or reject this hypotesis, is obvius to the a look at development in genre budgets over time. This has been plotted below"
   ]
  },
  {
   "cell_type": "code",
   "execution_count": null,
   "metadata": {},
   "outputs": [],
   "source": [
    "# Generate budget data\n",
    "data_budget = defaultdict(lambda: defaultdict(list))\n",
    "\n",
    "for x in df.iterrows():\n",
    "    for y in json.loads(x[1]['genres']):\n",
    "        data_budget[x[1]['release_date'].year][y['name']].append(x[1]['budget'])\n",
    "# Set missing values\n",
    "for k in data_budget.keys():\n",
    "    missing_k=genres.difference(set( x for x in data_budget[k].keys()))\n",
    "    for genre in missing_k:\n",
    "        data_budget[k][genre]=[0]\n",
    "        "
   ]
  },
  {
   "cell_type": "code",
   "execution_count": null,
   "metadata": {},
   "outputs": [],
   "source": [
    "for year in data_budget.keys():    \n",
    "    performance = [x[1] for x in sorted(data_budget[year].items())]\n",
    "    break"
   ]
  },
  {
   "cell_type": "code",
   "execution_count": null,
   "metadata": {},
   "outputs": [],
   "source": [
    "# Multiple plots shown as a movie\n",
    "\n",
    "%matplotlib inline\n",
    "np.random.seed(19680801)\n",
    "plt.rcdefaults()\n",
    "\n",
    "cumm=True\n",
    "\n",
    "# Example data\n",
    "y_pos = np.arange(len(genres))\n",
    "colors = np.random.rand(len(genres),3)\n",
    "#lazy init\n",
    "labels_=[x[0] for x in sorted(data[2000].items())]\n",
    "\n",
    "cumm_data=np.zeros(len(labels_))\n",
    "for year in data.keys():    \n",
    "    performance = [x[1] for x in sorted(data_budget[year].items())]\n",
    "    performance = [np.mean(x) if x else 0 for x in performance]\n",
    "    if cumm:\n",
    "        # Update cumm mean\n",
    "        for i in range(len(performance)):\n",
    "            val = performance[i]\n",
    "            if val:\n",
    "                cumm_data[i]=(cumm_data[i]+val)/2\n",
    "        performance=cumm_data\n",
    "    plt.barh(y_pos, performance, align='center', color=colors)\n",
    "    plt.xlabel('Budget')\n",
    "    plt.xlim((0,2e8))\n",
    "    plt.yticks(y_pos,labels_)\n",
    "    if not cumm:\n",
    "        plt.title(f\"Distribution of Genres Budgets for year: {year}\")\n",
    "    else:\n",
    "        plt.title(f\"Distribution of Genres Budgets for year cumulative: {year}\")\n",
    "    plt.show()\n",
    "    time.sleep(0.1)\n",
    "    clear_output(wait=True)"
   ]
  },
  {
   "cell_type": "markdown",
   "metadata": {},
   "source": [
    "What we see above is as expected an increase in the average budget size from the 1990 and onwards to the aboce mentioned genres, but this actually happends across the line which makes it difficult to distinguish any of the patterns indicated in the genre count distrbution. "
   ]
  },
  {
   "cell_type": "markdown",
   "metadata": {},
   "source": [
    "#### Patterns of actors work within genres\n",
    "\n",
    "Having explored the general pattern of the evolution of genres through time, it is now interesting to see if this also shows when investigating individual actors.\n",
    "\n",
    "It is naturally expected that actors generally star in comedy movies more often, in the latest decade. Therefore we investigate whether some actors experience a steep rise in comedy movie apperances."
   ]
  },
  {
   "cell_type": "markdown",
   "metadata": {},
   "source": [
    "## <span style=\"color:red\">Insert Asbjørns plots on actor development</span>"
   ]
  },
  {
   "cell_type": "code",
   "execution_count": 5,
   "metadata": {},
   "outputs": [],
   "source": [
    "actors_per_movie = df['cast'].apply(lambda x: ','.join(re.findall(r'\"name\": \"(\\w+ \\w+)\"', x))).str.split(',', expand = True).fillna('')\n",
    "actors_per_movie = df[['original_title', 'id']].merge(right = actors_per_movie, left_index = True, right_index = True)\n",
    "\n",
    "actors_per_movie = actors_per_movie.melt(id_vars=['original_title', 'id'])\n",
    "actors_per_movie = actors_per_movie[actors_per_movie['value'] != '']"
   ]
  },
  {
   "cell_type": "code",
   "execution_count": 6,
   "metadata": {},
   "outputs": [],
   "source": [
    "df_1 = copy.deepcopy(df)\n",
    "df_1.sort_values('release_date', inplace=True)\n",
    "df_1.reset_index(inplace=True)\n",
    "df_1['year'] = pd.DatetimeIndex(df_1['release_date']).year"
   ]
  },
  {
   "cell_type": "code",
   "execution_count": 7,
   "metadata": {},
   "outputs": [],
   "source": [
    "genre_set = set()\n",
    "\n",
    "for i in df_1.index:\n",
    "    dict_ = json.loads(df_1['genres'].loc[i])\n",
    "    for j in dict_:\n",
    "        genre_set.add(j['name'])"
   ]
  },
  {
   "cell_type": "code",
   "execution_count": 8,
   "metadata": {},
   "outputs": [],
   "source": [
    "genre_dict = dict(zip(genre_set, np.arange(0,len(genre_set))))\n",
    "inv_genre_dict = {v: k for k, v in genre_dict.items()}"
   ]
  },
  {
   "cell_type": "code",
   "execution_count": 9,
   "metadata": {},
   "outputs": [],
   "source": [
    "def actorGenres(actor):\n",
    "    \n",
    "    movies = list(actors_per_movie['original_title'][actors_per_movie['value']==actor])\n",
    "    \n",
    "    genres_list = np.zeros((len(movies),len(genre_dict)))\n",
    "    cum_genres_list = np.zeros((len(movies),len(genre_dict)))\n",
    "    year_list = np.zeros(0)\n",
    "    \n",
    "    index = 0\n",
    "    \n",
    "    prev_genre_list = np.zeros(len(genre_dict))\n",
    "    for i in df_1['genres'][df_1['original_title'].isin(movies)].index:\n",
    "        year_list = np.append(year_list,df_1['year'].loc[i])\n",
    "        genres = json.loads(df_1['genres'][df_1['original_title'].isin(movies)].loc[i])\n",
    "        for j in genres:\n",
    "            genres_list[index][genre_dict[j['name']]] += 1\n",
    "        \n",
    "        cum_genres_list[index] = np.add(prev_genre_list, genres_list[index])\n",
    "        prev_genre_list = cum_genres_list[index]\n",
    "        index += 1\n",
    "    \n",
    "    \n",
    "    return year_list, genres_list, cum_genres_list"
   ]
  },
  {
   "cell_type": "code",
   "execution_count": 10,
   "metadata": {},
   "outputs": [],
   "source": [
    "def actorDevPlot(actor,cum=True):\n",
    "    \n",
    "    if not G.has_node(actor):\n",
    "        print(\"Actor not in network\")\n",
    "        return\n",
    "    \n",
    "    actor_gen = actorGenres(actor)\n",
    "    \n",
    "    if cum:\n",
    "        genres = actor_gen[2]\n",
    "    else:\n",
    "        genres = actor_gen[1]\n",
    "    \n",
    "    fig, ax = plt.subplots(figsize=(15, 6))\n",
    "    \n",
    "    \n",
    "    for i in range(len(genre_dict)):\n",
    "        ax.plot(actorGenres(actor)[0], genres[:,i], label=inv_genre_dict[i], linewidth=3)\n",
    "        ax.annotate(inv_genre_dict[i], xy=(actor_gen[0][-1], genres[len(genres)-1,i]))\n",
    "        \n",
    "    ax.set_ylim(1)\n",
    "    ax.set_ylabel('Movies')\n",
    "    ax.set_xlabel('Year')\n",
    "    \n",
    "    if (actor[-1]!='s'):\n",
    "        ax.set_title(actor + \"'s career in genres\")\n",
    "    else:\n",
    "        ax.set_title(actor + \"' career in genres\")\n",
    "        \n",
    "    plt.legend()\n",
    "    plt.show()"
   ]
  },
  {
   "cell_type": "code",
   "execution_count": 11,
   "metadata": {},
   "outputs": [
    {
     "data": {
      "image/png": "[encoded data removed]",
      "text/plain": [
       "<Figure size 1080x432 with 1 Axes>"
      ]
     },
     "metadata": {
      "needs_background": "light"
     },
     "output_type": "display_data"
    }
   ],
   "source": [
    "actorDevPlot('Meryl Streep')"
   ]
  },
  {
   "cell_type": "code",
   "execution_count": 12,
   "metadata": {},
   "outputs": [
    {
     "data": {
      "image/png": "[encoded data removed]",
      "text/plain": [
       "<Figure size 1080x432 with 1 Axes>"
      ]
     },
     "metadata": {
      "needs_background": "light"
     },
     "output_type": "display_data"
    }
   ],
   "source": [
    "actorDevPlot('Bruce Willis')"
   ]
  },
  {
   "cell_type": "code",
   "execution_count": 13,
   "metadata": {},
   "outputs": [
    {
     "data": {
      "image/png": "[encoded data removed]",
      "text/plain": [
       "<Figure size 1080x432 with 1 Axes>"
      ]
     },
     "metadata": {
      "needs_background": "light"
     },
     "output_type": "display_data"
    }
   ],
   "source": [
    "actorDevPlot('Johnny Depp')"
   ]
  },
  {
   "cell_type": "markdown",
   "metadata": {},
   "source": [
    "Both Meril Streep's and Johnny Deep's career has experienced an exponential growth in comedy appearances, which supports the behaviour we expected in general. However, Bruce Willis has a more linear tendency, which means he basically appears in as many comedy movies in the latest years, as he has always done."
   ]
  },
  {
   "cell_type": "markdown",
   "metadata": {},
   "source": [
    "### Important words of the decade\n",
    "Now that we have a good idea of how the network has evolved and what genres are the dominant ones lets take the initial steps to look if we can regonize the mood of the times through the use of TF-IDF. Does these correspond with the genre distribution? How does it look when we relate the decade to what is happening in the world? And do the dominant elements from the genres correspond to what we expect?\n",
    "\n",
    "\n",
    "#### TF-IDF calculation\n",
    "The term TF-IDF is short for term frequency–inverse document frequency[\\[2\\]](https://en.wikipedia.org/wiki/Tf%E2%80%93idf)\n",
    "\n",
    "TF-IDF is a statistical measure for the importance of a word in a document or corpus. The goal of using this statistical measure is to idetify themes or elements of importance within the identified communities. The expected result is for example some words related to violence and crime to be dominant within the villan community surrounding The Joker\n",
    "\n",
    "\n",
    "#### Calculation of TF-IDF\n",
    "The calculation of TF-IDF can be done in many ways. Examples of TF are\n",
    "\n",
    ">Boolean \"frequencies\": tf(t,d) = 1 if t occurs in d and 0 otherwise;\n",
    "term frequency adjusted for document length: tf(t,d) = ft,d ÷ (number of words in d)\n",
    "logarithmically scaled frequency: tf(t,d) = log (1 + ft,d);\n",
    "augmented frequency, to prevent a bias towards longer documents\\[2\\]\n",
    "\n",
    "Because the document as fairly similiar for all the movies the bare count was choosen as the TF.\n",
    "\n",
    "For the IDF the $log(1+\\frac{N}{1+n_t})$ was choosen, as it is a common choice with the +1 in the denominator ensuring not division by zero and the other +1 ensuring >1 value for the log fuction.\n",
    "\n",
    "#### Documents and Collections\n",
    "As mentioned earlier the TF-IDF measure is a measure for a single document in a corpus. The problem has been modelled in the following way:\n",
    "* The documents $ D $ are the joined overview for the given segmentation - decade in this case \n",
    "* The collection $ C $ is the joined documents for all the movies in the  **dataset/corpus** (kan dette siges?)\n",
    "\n",
    "#### Stopwords\n",
    "Stopwords contribute very little information and usually gets filtered out through the inverse document frequency, but since the collections is quite small in this case around 8, the IDF penalty for occuring in many documents is simply too small compared to the raw count of the stopwords. To limit problems with this is has been decided to remove the stopwords all together"
   ]
  },
  {
   "cell_type": "markdown",
   "metadata": {},
   "source": [
    "We start off by creating helperfunctions to assist in the data loading process"
   ]
  },
  {
   "cell_type": "code",
   "execution_count": null,
   "metadata": {},
   "outputs": [],
   "source": [
    "def load_segmented_documents(dataf, start_year:int, segment_years:int)-> defaultdict:\n",
    "    document_data = defaultdict(str)\n",
    "    for x in dataf.iterrows():\n",
    "        # Skip\n",
    "        if pd.isna(x[1]['release_date']):\n",
    "            continue\n",
    "        # Skip\n",
    "        if pd.isna(x[1]['overview']):\n",
    "            continue\n",
    "        # Skip\n",
    "        if x[1]['release_date'].year<start_year:\n",
    "            continue\n",
    "        y = int(x[1]['release_date'].year/segment_years)*segment_years\n",
    "        document_data[y]+=(x[1]['overview'])\n",
    "        dataf.iloc[x[0]]['segment_year']=y\n",
    "    return document_data\n",
    "\n",
    "        \n",
    "def calculate_tf_idf(document: list, collection: list):\n",
    "    # Tr calculation\n",
    "    # Naive count\n",
    "    tf = Counter(document)\n",
    "    # other variations\n",
    "    #for k in tr: tr[k] = math.log10(tr[k]+1)\n",
    "    #for k in tr: tr[k] /= len(document)\n",
    "    \n",
    "    # IDF\n",
    "    N=len(collection)\n",
    "    # Flattens data\n",
    "    idf = defaultdict(int)\n",
    "    for d in collection:\n",
    "        words = set(d)\n",
    "        for x in words:\n",
    "            idf[x]+=1\n",
    "    \n",
    "    # Calculate IDF from n and n_t\n",
    "    for k in idf: idf[k] = math.log(1+ N/(idf[k]+1))\n",
    "    tfidf={k:tf[k]*idf[k] for k in tf}\n",
    "    \n",
    "    return tfidf\n",
    "\n",
    "def tokenize(text:str, remove_stop_words=True)-> list:\n",
    "    tokenized = [word.lower() for word in nltk.word_tokenize(text) if word.isalpha()]\n",
    "    if remove_stop_words:\n",
    "        stop_words = set(stopwords.words('english'))\n",
    "        tokenized = [x for x in tokenized if x not in stop_words]\n",
    "    return tokenized\n"
   ]
  },
  {
   "cell_type": "code",
   "execution_count": null,
   "metadata": {},
   "outputs": [],
   "source": [
    "# Extracting the data from 1970 with 10 year segments\n",
    "docs=load_segmented_documents(df,1970,10)\n",
    "collection=[tokenize(v) for v in docs.values()]\n",
    "\n",
    "tfidf=dict()\n",
    "for year_segment, text in docs.items():\n",
    "    tfidf[year_segment]=calculate_tf_idf(tokenize(text), collection)"
   ]
  },
  {
   "cell_type": "markdown",
   "metadata": {},
   "source": [
    "Lets take a look at the first decade in our list and see what we find and if it relates to what we would expect for that decade"
   ]
  },
  {
   "cell_type": "code",
   "execution_count": null,
   "metadata": {},
   "outputs": [],
   "source": [
    "y=[x for x in tfidf.keys()][0]\n",
    "print(f\"The first decade in our data is {y}\\n\")\n",
    "top_x=10\n",
    "print(f\"The top {top_x} most important words found by idf are:\")\n",
    "for x in [x[0] for x in sorted(tfidf[1970].items(), key=lambda x: x[1], reverse=True)[0:top_x]]:\n",
    "    print(x)\n",
    "top_movies=7\n",
    "print(f\"\\nThe top {top_movies} grossing movies this decade was:\")\n",
    "df['decade']=df['release_date'].apply(lambda x: int(x.year/10)*10 if not pd.isna(x) else x)\n",
    "print(df[df['decade']==y].sort_values('budget',ascending=False)[['original_title','budget']][0:top_movies])\n",
    "print(f\"\\nThe top {top_movies} rated movies this decade was:\")\n",
    "print(df[df['decade']==y].sort_values('vote_average',ascending=False)[['original_title','vote_average']][0:top_movies])"
   ]
  },
  {
   "cell_type": "code",
   "execution_count": null,
   "metadata": {},
   "outputs": [],
   "source": [
    "def plot_decade_from_tfidf(year:int, tfidf:dict, top_x_words=100):\n",
    "    text =' '.join([(x[0]+\" \")*(int(1+x[1])) for x in sorted(tfidf[year].items(), key=lambda x: x[1], reverse=True)[0:top_x_words]]).replace('  ',' ')\n",
    "    if str(year) not in [x.split('.')[0] for x in os.listdir()]:\n",
    "        print(f\"no mask found for this year{year}\")\n",
    "        raise Exception(\"Don't use this function\")\n",
    "    mask = np.array(Image.open(f'{year}.png'))\n",
    "    image_colors = ImageColorGenerator(mask)\n",
    "    wc = WordCloud(collocations=False,background_color=\"white\", max_words=1000, mask=mask).generate(text)\n",
    "    plt.figure(figsize=[12,12])\n",
    "    plt.imshow(wc.recolor(color_func=image_colors), interpolation=\"bilinear\")\n",
    "    plt.axis(\"off\")\n",
    "    plt.show()"
   ]
  },
  {
   "cell_type": "code",
   "execution_count": null,
   "metadata": {},
   "outputs": [],
   "source": [
    "plot_decade_from_tfidf(1970,tfidf)"
   ]
  },
  {
   "cell_type": "markdown",
   "metadata": {},
   "source": [
    "Looking at the results we find a couple of thinges that stand out. War, love, and coreleone. This make natural as important theses of the 1970's are the Anti-war movement, The gotfather movies, but can we tell if there has been a change over over the times? \n",
    "\n",
    "https://www.history.com/topics/1970s/1970s-1"
   ]
  },
  {
   "cell_type": "code",
   "execution_count": null,
   "metadata": {},
   "outputs": [],
   "source": [
    "%matplotlib inline\n",
    "nr=len(tfidf)\n",
    "nc=1\n",
    "fig, ax = plt.subplots(nrows=nr,ncols = nc, figsize=(25,30))\n",
    "idx=0\n",
    "year_keys = [x for x in tfidf.keys()]\n",
    "top_words = 200\n",
    "\n",
    "for i in range(nr):\n",
    "    year = year_keys[i]\n",
    "    text =' '.join([(x[0]+\" \")*(int(1+x[1])) for x in sorted(tfidf[year].items(), key=lambda x: x[1], reverse=True)[0:top_words]]).replace('  ',' ')\n",
    "    if str(year) not in [x.split('.')[0] for x in os.listdir()]:\n",
    "        print(f\"no mask found for this year{year}\")\n",
    "        raise Exception(\"Don't use this function\")\n",
    "\n",
    "    mask = np.array(Image.open(f'{year}.png'))\n",
    "    image_colors = ImageColorGenerator(mask)\n",
    "    #Movies\n",
    "    wc = WordCloud(collocations=False,background_color=\"white\", max_words=1000, mask=mask).generate(text)\n",
    "    ax[i].imshow(wc, interpolation=\"bilinear\")\n",
    "    ax[i].set_title(f'Movie wordcloud decade:{year}')\n",
    "    ax[i].axis(\"off\")\n",
    "\n",
    "\n",
    "plt.show()"
   ]
  },
  {
   "cell_type": "code",
   "execution_count": null,
   "metadata": {},
   "outputs": [],
   "source": [
    "list_for_df=[]\n",
    "for y in [x for x in tfidf.keys()]:\n",
    "    top_x=5\n",
    "    temp_list=[]\n",
    "    for idx, x in enumerate([x[0] for x in sorted(tfidf[y].items(), key=lambda x: x[1], reverse=True)[0:top_x]]):\n",
    "        temp_list.append([y,x,idx+1])\n",
    "    list_for_df.append(temp_list)\n",
    "pd.DataFrame([y for x in list_for_df for y in x],columns=['Decade','Word','Rank']).pivot(index='Decade', columns='Rank', values='Word')"
   ]
  },
  {
   "cell_type": "markdown",
   "metadata": {},
   "source": [
    "Looking at WordClouds and top words does not tell us a whole lot about the most central themes of the decades. It actuallly seems as if we are getting somewhat the same central themes across the line. This is a bit counter intuitive as the IDF term should correct this, but since we have a quite small samplesize in some of the decades without alot of uniqe words we seem to find the same results.\n",
    "\n",
    "This indicates another weighing sceme might be better. \n",
    "\n",
    "### <span style=\"color:red\">Check up on this</span>"
   ]
  },
  {
   "cell_type": "markdown",
   "metadata": {},
   "source": [
    "But what about within a single genre? We earlier noticed that there was a development within the popularity of the comedy genre, can we also spot a change in the words?\n"
   ]
  },
  {
   "cell_type": "code",
   "execution_count": null,
   "metadata": {},
   "outputs": [],
   "source": [
    "# Get only comedy movies\n",
    "df_comedy = df[df['genres'].apply(lambda x: True if not pd.isna(x) and ('Comedy' in [y['name'] for y in json.loads(x)]) else False)]\n",
    "df_comedy=df_comedy.reset_index()\n",
    "# Extracting the data from 1970 with 10 year segments\n",
    "docs=load_segmented_documents(df_comedy,1970,10)\n",
    "collection=[tokenize(v) for v in docs.values()]\n",
    "\n",
    "tfidf=dict()\n",
    "for year_segment, text in docs.items():\n",
    "    tfidf[year_segment]=calculate_tf_idf(tokenize(text), collection)"
   ]
  },
  {
   "cell_type": "code",
   "execution_count": null,
   "metadata": {},
   "outputs": [],
   "source": [
    "list_for_df=[]\n",
    "for y in [x for x in tfidf.keys()]:\n",
    "    top_x=5\n",
    "    temp_list=[]\n",
    "    for idx, x in enumerate([x[0] for x in sorted(tfidf[y].items(), key=lambda x: x[1], reverse=True)[0:top_x]]):\n",
    "        temp_list.append([y,x,idx+1])\n",
    "    list_for_df.append(temp_list)\n",
    "pd.DataFrame([y for x in list_for_df for y in x],columns=['Decade','Word','Rank']).pivot(index='Decade', columns='Rank', values='Word')"
   ]
  },
  {
   "cell_type": "markdown",
   "metadata": {},
   "source": [
    "### <span style=\"color:red\">COMMENTS ON DEVELOPMENT IN COMEDY GENRE</span>\n"
   ]
  },
  {
   "cell_type": "markdown",
   "metadata": {},
   "source": [
    "### <span style=\"color:red\">WRAP UP TF-IDF</span>\n"
   ]
  },
  {
   "cell_type": "markdown",
   "metadata": {},
   "source": [
    "## Sentiment through the history\n",
    "Now we have seen what words characterises the times through the TF-IDF analysis of the decades. Furthermore, we have gotten and idea of what happens in the world during this time compared to other decades. To dig even further in this we will now take a look at the sentiment of the words. To put it in more general terms: Can we an evolution in movie overview sentiment over times and does it change within the genres?\n",
    "\n",
    "This will allow us later to gain a clear insight into the mood of the hollywood set and lead us to be able to answer, along with the wikipedia analysis, the question: If the world is in bad shape, do hollywood the produce more depressing/sad content?\n",
    "\n",
    "This section we perform sentiment analysis on the movie description and relate them to the project hypotesis. To do this sentiment analysis we utilize the labMT dataset [\\[3\\]](https://journals.plos.org/plosone/article?id=10.1371/journal.pone.0026752) which is a \"language assessment by Mechanical Turk (labMT) word list to score the happiness of a corpus. The labMT word list was created by combining the 5000 words most frequently appearing in four sources: Twitter, the New York Times, Google Books, and music lyrics, and then scoring the words for sentiment on Amazon’s Mechanical Turk\" [\\[4\\]](https://buildmedia.readthedocs.org/media/pdf/labmt-simple/latest/labmt-simple.pdf)\n",
    "\n",
    "#### Important decision about calculation \n",
    "Two important decision:\n",
    "\n",
    "**Not using a lemmatizer**\n",
    "\n",
    "The project avoids using a lemmatizer because words such as \"armed\" or \"arm\", which are stemmed to the samen word, does not have the same meaning nor the same sentiment associated to it. The same argument goes for words that are stemmed to be equal (part of lemmatization: \"have\" and \"had\" can have different sentiments.\n",
    "\n",
    "In relation to the consideration on whether to remove stop words, the course assignment 2[REF](www.githubrepo) revealed that some stop words are non-neutral, and thus the project won't remove stop words from the texts.\n",
    "\n",
    "A neutral word has a score of 5, and as stated in the article **Temporal Patterns of Happiness and Information in a Global Social Network[\\[3\\]](https://journals.plos.org/plosone/article?id=10.1371/journal.pone.0026752)**, it makes sense to get rid of all the neutral words, because they don't say anything about the happiness of a text. Thus we remove all words with a happiness average smaller than 6 and larger than 4.\n",
    "This means we choose $\\Delta h_{avg} = 1$, and remove all words that lies $h_{avg}$ within the neutral score of 5, that is, $5-h_{avg}<h_{avg}<5+h_{avg}$.\n",
    "\n",
    "Additionally preperation\n",
    "* all words in the texts are set to lower case"
   ]
  },
  {
   "cell_type": "markdown",
   "metadata": {},
   "source": [
    "We will start out by creating the foundation for the sentimentanalysis by loading in the data set from the supplemntary material in [\\[3\\]](https://journals.plos.org/plosone/article?id=10.1371/journal.pone.0026752). And filter the data accordin to the described method above"
   ]
  },
  {
   "cell_type": "code",
   "execution_count": null,
   "metadata": {},
   "outputs": [],
   "source": [
    "path = 'https://journals.plos.org/plosone/article/file?id=10.1371/journal.pone.0026752.s001&type=supplementary'\n",
    "#Read data\n",
    "sentiment = pd.read_csv(path, skiprows = 2, sep = '\\t')"
   ]
  },
  {
   "cell_type": "code",
   "execution_count": null,
   "metadata": {},
   "outputs": [],
   "source": [
    "df_s[[\"happiness_average\", \"happiness_standard_deviation\"]] = sentiment[[\"happiness_average\", \"happiness_standard_deviation\"]].apply(pd.to_numeric)\n",
    "df_s = df_s[(df_s['happiness_average']>6) | (df_s['happiness_average']<4)]"
   ]
  },
  {
   "cell_type": "code",
   "execution_count": null,
   "metadata": {},
   "outputs": [],
   "source": [
    "df_s"
   ]
  },
  {
   "cell_type": "markdown",
   "metadata": {},
   "source": [
    "Now that the data is loaded in, the following formula can be used to calculate the sentiment, for every decade wiki-page and the corresponding movie overview\n",
    "\n",
    "$$V_{text} = \\frac{\\sum \\limits_k v_k f_k}{\\sum \\limits_k f_k}$$\n",
    "\n",
    "This is the sum of sentiment in the text divided by the number of words. "
   ]
  },
  {
   "cell_type": "markdown",
   "metadata": {},
   "source": [
    "As before we will take a look at a specific year again and take a look at it in depth, after wich we will aggregate the findings to more general level using all the segments (decades). The findings will then be discussed"
   ]
  },
  {
   "cell_type": "code",
   "execution_count": null,
   "metadata": {},
   "outputs": [],
   "source": [
    "def calculate_sentiment_dict(text_dict: dict):\n",
    "    sentiment_dict = defaultdict(list)\n",
    "    sentiment_dict_aggregate = {}\n",
    "    words = list(df_s['word'])\n",
    "    for year, text in text_dict.items():\n",
    "        # Check if word in df_s if it is get happiness_average\n",
    "        _temp = [(word.lower(),df_s[df_s['word']==word.lower()]['happiness_average'].values[0]) for word in text if not df_s[df_s['word']==word.lower()]['happiness_average'].empty]\n",
    "        # Empty list\n",
    "        if not _temp:\n",
    "            continue\n",
    "        sentiment_dict[year]=_temp\n",
    "        dc = [x[0] for x in sentiment_dict[year]]\n",
    "        word_count = nltk.FreqDist(dc).most_common()\n",
    "        words = 0\n",
    "        happy_score = 0\n",
    "        for i in range(len(word_count)):\n",
    "            words += word_count[i][1]\n",
    "            happy_score += df_s['happiness_average'][df_s['word'] == word_count[i][0]].values[0]*word_count[i][1]\n",
    "        v_text = happy_score/words\n",
    "        sentiment_dict_aggregate[year]=v_text\n",
    "    return sentiment_dict_aggregate, sentiment_dict"
   ]
  },
  {
   "cell_type": "code",
   "execution_count": null,
   "metadata": {},
   "outputs": [],
   "source": [
    "# Calculate sentiment for documents\n",
    "decade_data = {k: tokenize(v) for k,v in docs.items()}\n",
    "sentiment_decade_dict_aggregate, sentiment_decade_dict = calculate_sentiment_dict(decade_data)"
   ]
  },
  {
   "cell_type": "markdown",
   "metadata": {},
   "source": [
    "We now have the calculations of sentiment from the decade segmentation of the movie industry and the wikipedia pages, but how do they relate to eachother and can we relate the sentiment to what we found in the word analysis?"
   ]
  },
  {
   "cell_type": "code",
   "execution_count": null,
   "metadata": {},
   "outputs": [],
   "source": [
    "labels = [x[0] for x in sorted(sentiment_decade_dict_aggregate.items(),key=lambda x: x[1], reverse=True)]\n",
    "movies = [round(x[1],3) for x in sorted(sentiment_decade_dict_aggregate.items(),key=lambda x: x[1], reverse=True)]\n",
    "labels.reverse()\n",
    "movies.reverse()\n",
    "x = np.arange(len(labels))  # the label locations\n",
    "width = 0.35  # the width of the bars\n",
    "\n",
    "fig, ax = plt.subplots(figsize=(8, 6))\n",
    "#rects1 = ax.bar(x - width/2, wiki, width, label='Wikipedia')\n",
    "rects2 = ax.bar(x, movies, width, label='Movies', color='g')\n",
    "\n",
    "# Add some text for labels, title and custom x-axis tick labels, etc.\n",
    "ax.set_ylabel('Sentiment score')\n",
    "ax.set_title('Sentiment of movies from decade vs wikipedia for decade')\n",
    "ax.set_xticks(x)\n",
    "ax.set_xticklabels(labels)\n",
    "ax.set_ylim([0,10])\n",
    "ax.legend()\n",
    "\n",
    "\n",
    "def autolabel(rects):\n",
    "    \"\"\"Attach a text label above each bar in *rects*, displaying its height.\"\"\"\n",
    "    for rect in rects:\n",
    "        height = rect.get_height()\n",
    "        ax.annotate('{}'.format(height),\n",
    "                    xy=(rect.get_x() + rect.get_width() / 2, height),\n",
    "                    xytext=(0, 3),  # 3 points vertical offset\n",
    "                    textcoords=\"offset points\",\n",
    "                    ha='center', va='bottom')\n",
    "\n",
    "#autolabel(rects1)\n",
    "autolabel(rects2)\n",
    "x = np.linspace(-0.5, 4.5)\n",
    "y = len(x)*[5]\n",
    "z = np.linspace(5.65,5.939)\n",
    "axes2 = plt.twinx()\n",
    "axes2.plot(x, y, color='b', label='Neutral score',linestyle='dashed')\n",
    "axes2.plot(x, z, color='r', label='Trend',linestyle='dashed')\n",
    "axes2.set_ylim(0, 10)\n",
    "axes2.legend(loc=\"lower center\")\n",
    "fig.tight_layout()\n",
    "\n",
    "plt.show()"
   ]
  },
  {
   "cell_type": "markdown",
   "metadata": {},
   "source": [
    "From the above plot it seems like hollywood have a slight positive sentiment, but a small upwards trend in the data. The slope coefficient is very low, but maybye this is relatable to that fact that the world is getting better. \n",
    "\n",
    "In a 2018 Vox posted 23 statistical measures that shows that the world is getting better such as decreasing infant mortality rate and declining hunger [\\[6\\]](https://www.vox.com/2014/11/24/7272929/global-poverty-health-crime-literacy-good-news) - maybe the mood in hollywood is too. \n",
    "\n",
    "But since the values are centered aroud a neutral is difficult to make any conclusions on the hypotesis. Combining this with the fact that we notice a fairly even distribution between genres we would also expect that the values would be centered around neutral as comedy might make up for horror. What should also be noted is that these text segments are evaluated in 2010/11, and therefore might not be very accurate for 1970 as words meaning and value change. Another element that might affect the sentiment score is that the short movie describtion simply dosen enough positive- or negatively charged words. This is what we will investigate next"
   ]
  },
  {
   "cell_type": "markdown",
   "metadata": {},
   "source": [
    "I quick look at the sentiment word-list reveals that the most negatively charged words are about terrorism. The movie Zero Dark Thirty about the hunt for Osama Bin Larden, should then contain some negativly charged words."
   ]
  },
  {
   "cell_type": "code",
   "execution_count": null,
   "metadata": {},
   "outputs": [],
   "source": [
    "print(\"Average overview length:\", np.average([len(x) for x in df['overview'].values if type(x)==str]))\n"
   ]
  },
  {
   "cell_type": "code",
   "execution_count": null,
   "metadata": {},
   "outputs": [],
   "source": [
    "# Adapt to function format\n",
    "zdt={'Zero Dark Thirty':tokenize(df[df['original_title']=='Zero Dark Thirty']['overview'].values[0])}\n",
    "zdt_agg, zdt_values =calculate_sentiment_dict(zdt)\n",
    "\n",
    "print(\"Overview of Zero Dark Thirty :\",df[df['original_title']=='Zero Dark Thirty']['overview'].values[0])\n",
    "print(f\"\\nZero Dark Thirty has the sentiment: {round(zdt_agg['Zero Dark Thirty'],3)}\")"
   ]
  },
  {
   "cell_type": "markdown",
   "metadata": {},
   "source": [
    "Zero dark thirty has a low sentiment as expected, but how does the distribution look for all movies in the dataset?"
   ]
  },
  {
   "cell_type": "code",
   "execution_count": null,
   "metadata": {},
   "outputs": [],
   "source": [
    "sentiment_all_movies = []\n",
    "for row in df.iterrows():\n",
    "    if pd.isna(row[1]['overview']):\n",
    "        continue\n",
    "    # Fit format\n",
    "    _temp = {row[0]:tokenize(row[1]['overview'])}\n",
    "    agg, val = calculate_sentiment_dict(_temp)\n",
    "    if agg:\n",
    "        sentiment_all_movies.append(agg)"
   ]
  },
  {
   "cell_type": "code",
   "execution_count": null,
   "metadata": {},
   "outputs": [],
   "source": [
    "sns.displot([y for x in sentiment_all_movies for y in list(x.values())], kde=True)\n",
    "plt.title('Histogram of sentiment score of movies across the dataset')\n",
    "plt.xlabel('Sentiment score')\n",
    "plt.ylabel('Count')\n",
    "plt.show()"
   ]
  },
  {
   "cell_type": "markdown",
   "metadata": {},
   "source": [
    "We actually have a majority of positive movies, with a few very negative ones. Here every movies is weighted equally,  but if we want to know about the expirenced sentiment of hollywood i would make more sense to do some kind of weighing on the budget of the production, as the affect a big feature film has on someone, is probably larger than a small budget movies due to advertising and other factors favoring large productions."
   ]
  },
  {
   "cell_type": "markdown",
   "metadata": {},
   "source": [
    "### <span style=\"color:red\">SECTION WRAP UP - missing</span>\n"
   ]
  },
  {
   "cell_type": "markdown",
   "metadata": {},
   "source": [
    "# <span style=\"color:red\">Actor communities</span>\n",
    "\n",
    "## Analysis of Actor Communities and Their Sentiment\n",
    "\n",
    "As presented in project assignment A, we have a hypotesis that there exist small communities within hollywood where groups of actors do the majority of their work together in specific genres. An example could be Denzel Washington which primarly does his work within Action and Drama. Does he always work with alot of the same crew?\n",
    "\n",
    "To put it in general terms this section will uncover what actors work together, whether they form cliques? What charaterize these communites and a zoom in on specific Actors. \n",
    "\n",
    "This will be done through:\n",
    "* Community detection\n",
    "    * LIST DETECTION ALGORITHMS\n",
    "* Important words\n",
    "    * TF-IDF\n",
    "    * Wordclouds\n",
    "    * Lookup of movies\n",
    "* Sentiment of communities\n",
    "    * What communities are happy/sad?\n"
   ]
  },
  {
   "cell_type": "markdown",
   "metadata": {},
   "source": [
    "## <span style=\"color:red\">TEXT FROM ASSIGNMENT B</span>\n",
    "### 3.1 Finding and investigating communities in the DC universe\n",
    "\n",
    "Comunity detection is about partitioning the nodes (or edges) into an arbitrary number of groups. There are many approaches to this and in [chapter 9](http://networksciencebook.com/chapter/9#basics) of the network book, we are presented to a couple of them.\n",
    "\n",
    "A method the book describes in detail is the Girvan-Newman algorithm. This algorithm uses hierarchical clustering that identifies high similarity clusters with a divisive algorithm procedure. The concepts are quite simple and a good starting point for the segmentation. <b> The hypothesis is that the many different stories like Batman, SuperMan, justice league etc. will have connections between eachother </b>.\n",
    "\n",
    "Choosing the optimal segmentation from this would then be chosen by the segmentation which is optimizing the modularity.\n",
    "\n",
    "<b> Modularity </b> <br>\n",
    "Modularity is a measure of how connected a group of nodes are compared to the expectation if the network was wired randomly \n",
    "\n",
    "Definition from the book\n",
    ">Consider a network with N nodes and L links and a partition into nc communities, each community having Nc nodes connected to each other by Lc links, where c=1,...,$n_c$. If $L_c$ is larger than the expected number of links between the $N_c$ nodes given the network’s degree sequence, then the nodes of the subgraph $C_c$ could indeed be part of a true community, as expected based on the Density Hypothesis H2 (Image 9.2). We therefore measure the difference between the network’s real wiring diagram ($A_{ij}$) and the expected number of links between $i$ and $j$ if the network is randomly wired ($p_{ij}$)\n",
    "\n",
    "Since we are segmentating based on the maximizing the modularity, one could argue we should go for the greedy modularity algorithm instead, but since its implementation for directed graphs in netowrkx has a runtime of $n^4$, we had to go for another approach. \n",
    "\n",
    "The algorithm for finding the communities below uses the louvain method, which is a greedy method that runs in $O(n*log(n))$ which is a significant improvement.\n",
    "\n",
    "This also means that our aproach is dependent on the $H4$ hypotesis: \n",
    ">For a given network the partition with maximum modularity corresponds to the optimal community structure.\n",
    "\n",
    "We will not go into detail of the limits of modularity, but they can be found [here](http://networksciencebook.com/chapter/9#modularity) and since this implementation does not guarentee optimality, re-running the algorithm will yield different results. \n",
    "\n",
    "OBS:\n",
    "Many of the community algorithms are only implemented for the nx.Graph class and not nx.DiGraph. <b> This is why we are working with an undirected version </b>\n",
    "\n",
    "Related note:\n",
    "Using the betweenness centrality measure and Girvan-Newman algorithm will require around 15 hour of processing time for the whole dc network"
   ]
  },
  {
   "cell_type": "code",
   "execution_count": null,
   "metadata": {},
   "outputs": [],
   "source": []
  },
  {
   "cell_type": "markdown",
   "metadata": {},
   "source": [
    "## <span style=\"color:red\">Communities</span>"
   ]
  },
  {
   "cell_type": "markdown",
   "metadata": {},
   "source": [
    "In this section we seek to find communities of actors, in order to analyze, why some actors star together often.\n",
    "\n",
    "The communities will be based on modularity, which seems reasonable considering the nature of our graph (having weighted edges). The modularity encaptures the weighted edges, which makes it more likely that 2 actors end in the same community, if they have done multiple movies together - indeed very resonable!"
   ]
  },
  {
   "cell_type": "code",
   "execution_count": null,
   "metadata": {},
   "outputs": [],
   "source": [
    "import community as community_louvain\n",
    "import networkx.algorithms.community as nx_comm"
   ]
  },
  {
   "cell_type": "code",
   "execution_count": null,
   "metadata": {},
   "outputs": [],
   "source": [
    "def get_modularity(community_dict):\n",
    "    comvalues = np.array(list(community_dict.values()))\n",
    "    comkeys = np.array(list(community_dict.keys()))\n",
    "    \n",
    "    \n",
    "    l = []\n",
    "    \n",
    "    for i in np.unique(comvalues):\n",
    "        comkey_indices = np.where(comvalues == i)[0]\n",
    "        l1 = set()\n",
    "        for j in comkey_indices:\n",
    "            l1.add(comkeys[j])\n",
    "        l.append(l1)\n",
    "        \n",
    "    return nx_comm.modularity(G, l)"
   ]
  },
  {
   "cell_type": "markdown",
   "metadata": {},
   "source": [
    "We use the Louvain algorithm to find the best partition of the graph. Additionally we treat the resolution as a hyperparameter, in order to maximize the modularity. The upper bound is set to 0.5, in order avoid too large communities. The reasoning behind wanting rather small communities is the ability to analyze them individually."
   ]
  },
  {
   "cell_type": "code",
   "execution_count": null,
   "metadata": {},
   "outputs": [],
   "source": [
    "def get_best_coms(Graph):\n",
    "    best_mod = -2\n",
    "    res = np.linspace(10**-1, 0.5, num=20)\n",
    "    mod_scores = []\n",
    "    best_res = res[0]\n",
    "    for i in res:\n",
    "        new_mod = get_modularity(community_louvain.best_partition(Graph, resolution=i))\n",
    "        mod_scores.append(new_mod)\n",
    "        if new_mod > best_mod:\n",
    "            best_mod = new_mod\n",
    "            best_res = i\n",
    "    \n",
    "    return res, mod_scores, community_louvain.best_partition(Graph, resolution=best_res)"
   ]
  },
  {
   "cell_type": "code",
   "execution_count": null,
   "metadata": {},
   "outputs": [],
   "source": [
    "Res, mod_Scores, com_dict = get_best_coms(G)"
   ]
  },
  {
   "cell_type": "code",
   "execution_count": null,
   "metadata": {},
   "outputs": [],
   "source": [
    "plt.plot(Res, mod_Scores)\n",
    "plt.xlabel('Resolution')\n",
    "plt.ylabel('Modularity')\n",
    "plt.title('Optimizing resolution with regards to Modularity')\n",
    "plt.show()"
   ]
  },
  {
   "cell_type": "markdown",
   "metadata": {},
   "source": [
    "From this plot we observe that picking a resolution of 0.5, yields a modularity of approximately 0.16. This is not an impressive score. The problem might arise due to the nature of the network we are trying to analyze. One could ask whether it is likely that these actors, the top 500 with regards to feature movies, belong to only 1 small community. Take Samuel L. Jackson as an example, who has starred with 176/500 of the actors - Is it likely that he belongs to a single small community? The obvious answer is no, but by using this clustering technique that is exactly the behaviour we are enforcing. A better clustering technique could therefore be link clustering, where we allow actors to be in multiple communities, but for the remainder of this section, we will analyze the results from the communities formed by the Louvain algorithm."
   ]
  },
  {
   "cell_type": "code",
   "execution_count": null,
   "metadata": {},
   "outputs": [],
   "source": [
    "#Add community as node attribute\n",
    "nx.set_node_attributes(G, com_dict, \"community\")"
   ]
  },
  {
   "cell_type": "code",
   "execution_count": null,
   "metadata": {},
   "outputs": [],
   "source": [
    "com_df = pd.DataFrame.from_dict(com_dict, orient='index')"
   ]
  },
  {
   "cell_type": "code",
   "execution_count": null,
   "metadata": {},
   "outputs": [],
   "source": [
    "nx.draw(G.subgraph(com_df[com_df[0]==4].index),with_labels=True)"
   ]
  },
  {
   "cell_type": "code",
   "execution_count": null,
   "metadata": {},
   "outputs": [],
   "source": [
    "print(\"Number of movies together: \", G.subgraph(com_df[com_df[0]==4].index).size(weight='weight'))"
   ]
  },
  {
   "cell_type": "code",
   "execution_count": null,
   "metadata": {},
   "outputs": [],
   "source": [
    "##List for wordcloud\n",
    "movie_list = []\n",
    "\n",
    "for j in com_df[com_df['community']==4].index:\n",
    "    movie_list.append(list(G.nodes[j]['movies']))\n",
    "\n",
    "movie_list = [item for sublist in movie_list for item in sublist]"
   ]
  },
  {
   "cell_type": "markdown",
   "metadata": {},
   "source": [
    "An example of a community of 11 actors, who has done a total of 127 movies together!\n",
    "For example we notice almost the entire cast of the 3 famous \"Oceans\"-movies in this particular community.\n",
    "\n",
    "Having found our actor communities, we now wish to investigate what drives the formation of communities. The motivation behind this is to explain, why some actors often star together. More specifically, we wish to analyze what drives the formation of communities. A theory is that genre or sentiment drives the formation of communties, because e.g. 2 actors who has a preference for making action movies, are in general more likely to be cast together."
   ]
  },
  {
   "cell_type": "code",
   "execution_count": null,
   "metadata": {},
   "outputs": [],
   "source": [
    "def get_genre_bar(community):\n",
    "    genre_summed = Counter()\n",
    "    for i in G.subgraph(com_df[com_df['community']==community].index).nodes:\n",
    "        genre_summed += G.nodes[i]['genre']\n",
    "        \n",
    "    norm = np.sum(np.array(list(genre_summed.values())))\n",
    "    \n",
    "    return np.array(list(genre_summed.keys())), np.array(list(genre_summed.values()))/np.sum(np.array(list(genre_summed.values())))"
   ]
  },
  {
   "cell_type": "code",
   "execution_count": null,
   "metadata": {},
   "outputs": [],
   "source": [
    "com_df['n_actors']=1\n",
    "com_df = com_df.rename(columns = {0:'community'})\n",
    "com_df_1 = com_df.groupby('community').sum()"
   ]
  },
  {
   "cell_type": "code",
   "execution_count": null,
   "metadata": {},
   "outputs": [],
   "source": [
    "genre_set = set()\n",
    "\n",
    "for i in df.index:\n",
    "    dict_ = json.loads(df['genres'].loc[i])\n",
    "    for j in dict_:\n",
    "        genre_set.add(j['name'])"
   ]
  },
  {
   "cell_type": "code",
   "execution_count": null,
   "metadata": {},
   "outputs": [],
   "source": [
    "df['release_date'].loc[i].year"
   ]
  },
  {
   "cell_type": "code",
   "execution_count": null,
   "metadata": {},
   "outputs": [],
   "source": [
    "for i in genre_set:\n",
    "    com_df_1[i] = 0"
   ]
  },
  {
   "cell_type": "code",
   "execution_count": null,
   "metadata": {},
   "outputs": [],
   "source": [
    "for i in com_df_1.index:\n",
    "    genres, count = get_genre_bar(i)\n",
    "    idx = 0\n",
    "    for j in genres:\n",
    "        com_df_1[j].loc[i] = count[idx]\n",
    "        idx += 1"
   ]
  },
  {
   "cell_type": "code",
   "execution_count": null,
   "metadata": {},
   "outputs": [],
   "source": [
    "r = np.arange(len(com_df_1))\n",
    "barwidth = 0.75\n",
    "bottom_ = np.zeros(len(com_df_1))\n",
    "\n",
    "for i in com_df_1.drop('n_actors',axis=1).columns:\n",
    "    bar = com_df_1[i].values\n",
    "    plt.bar(r, bar, bottom=bottom_, width=barwidth, label=i)\n",
    "    bottom_ = np.add(bottom_, bar).tolist()\n",
    "\n",
    "plt.ylim(0,1)\n",
    "plt.xticks(r, com_df_1.index, rotation='vertical')\n",
    "plt.xlabel('Community')\n",
    "plt.ylabel('Genre distribution')\n",
    "plt.show()"
   ]
  },
  {
   "cell_type": "markdown",
   "metadata": {},
   "source": [
    "From this plot we see that actors in communities work with one another <b>across</b> genres. This was unexpected, since we had a theory that these communties would be strongly dependent on genre preferences of the actors inside the communities.\n",
    "\n",
    "This gave us a new theory. Actors are typically cast based on the \"mood\" of the movie. The reasoning behind this, is that the \"mood\" of a movie is not based on the genre, think of tragic comedies versus comedies for example. In order to test this theory, we take the average sentiment of all movies represented in a community, and compare them to each other."
   ]
  },
  {
   "cell_type": "code",
   "execution_count": null,
   "metadata": {},
   "outputs": [],
   "source": [
    "import urllib\n",
    "import requests\n",
    "import sys\n",
    "from io import StringIO"
   ]
  },
  {
   "cell_type": "code",
   "execution_count": null,
   "metadata": {},
   "outputs": [],
   "source": [
    "url = 'https://raw.githubusercontent.com/akosek/assignment/master/Data_Set_S1.txt'\n",
    "r = requests.get(url)\n",
    "data = pd.read_csv(StringIO(r.text[59:]), sep=\"\\t\", header=None)\n",
    "data.columns = [\"word\", \"happiness_rank\", \"happiness_average\", \"happiness_standard_deviation\", \"twitter_rank\", \"google_rank\", \"nyt_rank\", \"lyrics_rank\"]\n",
    "df_sentiment = data[1:]\n",
    "df_sentiment['happiness_average'] = pd.to_numeric(df_sentiment['happiness_average'], downcast=\"float\")\n",
    "\n",
    "##Removing neutral words\n",
    "df_sentiment = df_sentiment[(df_sentiment['happiness_average']>6) | (df_sentiment['happiness_average']<4)]"
   ]
  },
  {
   "cell_type": "code",
   "execution_count": null,
   "metadata": {},
   "outputs": [],
   "source": [
    "def textSentiment(text):\n",
    "    \n",
    "    if not isinstance(text, str):\n",
    "        return 0\n",
    "    \n",
    "    words = [word.lower() for word in nltk.word_tokenize(text) if word.isalpha() and word in list(df_sentiment['word'])]\n",
    "    \n",
    "    if len(words)==0:\n",
    "        return 0\n",
    "    \n",
    "    sentiment = 0\n",
    "    for w in words:\n",
    "        sentiment += df_sentiment['happiness_average'][df_sentiment['word']==w].values[0]\n",
    "    \n",
    "    return sentiment/len(words)"
   ]
  },
  {
   "cell_type": "code",
   "execution_count": null,
   "metadata": {},
   "outputs": [],
   "source": [
    "df['sentiment'] = df['overview'].apply(textSentiment)\n",
    "com_df_1['sentiment'] = 0"
   ]
  },
  {
   "cell_type": "code",
   "execution_count": null,
   "metadata": {},
   "outputs": [],
   "source": [
    "movie_set = set()\n",
    "\n",
    "for i in np.arange(len(com_df_1)):\n",
    "    for j in com_df[com_df['community']==i].index:\n",
    "        movie_set = movie_set.union(set(G.nodes[j]['movies']))\n",
    "    \n",
    "    com_df_1['sentiment'].loc[i] = df[df['original_title'].isin(movie_set)]['sentiment'].sum()/len(movie_set)"
   ]
  },
  {
   "cell_type": "code",
   "execution_count": null,
   "metadata": {},
   "outputs": [],
   "source": [
    "plt.bar(com_df_1.index, com_df_1['sentiment'].values)\n",
    "plt.xticks(com_df_1.index, com_df_1.index, rotation='vertical')\n",
    "plt.xlabel('Community')\n",
    "plt.ylabel('Avg. movie sentiment')\n",
    "plt.show()"
   ]
  },
  {
   "cell_type": "markdown",
   "metadata": {},
   "source": [
    "From this plot it does not seem that any communities are significantly happy or sad, which again, is unexpected!"
   ]
  },
  {
   "cell_type": "markdown",
   "metadata": {},
   "source": [
    "It seems that the actor communities are not dependent on either the sentiment of the movies, nor are they dependent on the genre. This means that actors in the same community, star together accross different genres and \"moods\".\n",
    "\n",
    "We have previously noticed that actors tend to have a preference with regards to genre. Therefore it would make sense that actors ending up in the same community, is simply because they have the same genre preferences, and thus often end up in the same movie. Now, when we see that actors in each community star together accross all genres, there must be another driver behind why some actors often star in the same movie. This naturally leaves 3 options:\n",
    "\n",
    "* Actors have preferences with regards to co-stars, and selecting their next movie is dependent on who their co-stars are. An example could be that 2 actors are good friends, and therefore they like doing movies together.\n",
    "\n",
    "\n",
    "* The public opinion of the on-screen relationship between the 2 actors. Because the public likes to see the 2 actors together, they are often cast together.\n",
    "\n",
    "\n",
    "* A combination of the 2 above, which seems like the most likely.\n",
    "\n",
    "Naturally, 2 actors that dislike each other will not star together often, and casters won't cast 2 actors together often, if the public dislikes them on screen together. Therefore it seems more likely that a combination of the two determines which community an actor is in."
   ]
  },
  {
   "cell_type": "markdown",
   "metadata": {},
   "source": [
    "## <span style=\"color:red\">Section wrap up</span>\n",
    "\n",
    "\n",
    "Insert data etc."
   ]
  },
  {
   "cell_type": "markdown",
   "metadata": {},
   "source": [
    "# <span style=\"color:red\">Final thoughts</span>\n"
   ]
  }
 ],
 "metadata": {
  "kernelspec": {
   "display_name": "Python 3",
   "language": "python",
   "name": "python3"
  },
  "language_info": {
   "codemirror_mode": {
    "name": "ipython",
    "version": 3
   },
   "file_extension": ".py",
   "mimetype": "text/x-python",
   "name": "python",
   "nbconvert_exporter": "python",
   "pygments_lexer": "ipython3",
   "version": "3.7.6"
  }
 },
 "nbformat": 4,
 "nbformat_minor": 4
}
